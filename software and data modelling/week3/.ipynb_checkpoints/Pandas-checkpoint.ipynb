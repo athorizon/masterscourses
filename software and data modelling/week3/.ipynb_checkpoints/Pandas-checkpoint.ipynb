{
 "cells": [
  {
   "cell_type": "code",
   "execution_count": 5,
   "id": "c58f6ff6-fadf-4834-bc95-9fbd0e48f534",
   "metadata": {},
   "outputs": [],
   "source": [
    "import numpy as np\n",
    "import pandas as pd"
   ]
  },
  {
   "cell_type": "markdown",
   "id": "878f44ef",
   "metadata": {},
   "source": [
    "#  Getting Started with pandas\n",
    "\n",
    "o pandas contains data structures and data manipulation tools designed to make data cleaning and analysis fast and easy\n",
    "\n",
    "o pandas is often used with numerical computing tools like NumPy and SciPy, analytical libraries like statsmodels and scikit-learn, and data visualization libraries like matplotlib. \n",
    "\n",
    "o pandas adopts NumPy’s style of array-based computing\n",
    "\n",
    "o the biggest difference is that pandas is designed for working with tabular or heterogeneous data whereas NumPy is \n",
    "  designed for homogeneous numerical array data.\n",
    "\n",
    "    \n",
    "### pandas Data Structures\n",
    "\n",
    "o Series - one-dimensional array-like object containing a sequence of values and an associated array of data labels (index) \n",
    "\n",
    "o DataFrame - rectangular table of data and contains an ordered collection of columns, each of which can be a different\n",
    "              value type (numeric, string, boolean, etc.)\n",
    "           "
   ]
  },
  {
   "cell_type": "code",
   "execution_count": 33,
   "id": "58f10d5a",
   "metadata": {},
   "outputs": [
    {
     "name": "stdout",
     "output_type": "stream",
     "text": [
      "0    4\n",
      "1    7\n",
      "2   -5\n",
      "3    3\n",
      "dtype: int64\n",
      "7\n"
     ]
    }
   ],
   "source": [
    "import numpy as np\n",
    "import pandas as pd\n",
    "# from pandas import Series, DataFrame\n",
    "\n",
    "# Creates a simple series\n",
    "obj1 = pd.Series([4, 7, -5, 3])   \n",
    "print(obj1)\n",
    "print(obj1[1])\n"
   ]
  },
  {
   "cell_type": "code",
   "execution_count": 35,
   "id": "7c4fc5d6",
   "metadata": {},
   "outputs": [
    {
     "name": "stdout",
     "output_type": "stream",
     "text": [
      "d    4\n",
      "b    7\n",
      "a   -5\n",
      "c    3\n",
      "dtype: int64\n",
      "-5\n",
      "d    100\n",
      "b      7\n",
      "a     -5\n",
      "c      3\n",
      "dtype: int64\n"
     ]
    }
   ],
   "source": [
    "# Series with string indexing\n",
    "obj2 = pd.Series([4, 7, -5, 3], index=['d', 'b', 'a', 'c'])  \n",
    "print(obj2)\n",
    "print(obj2['a'])\n",
    "obj2['d'] = 100\n",
    "print(obj2)\n",
    "# print(obj2[2])"
   ]
  },
  {
   "cell_type": "code",
   "execution_count": 36,
   "id": "cb29b5f3",
   "metadata": {},
   "outputs": [
    {
     "name": "stdout",
     "output_type": "stream",
     "text": [
      "d    100\n",
      "b      7\n",
      "c      3\n",
      "dtype: int64\n",
      "d    200\n",
      "b     14\n",
      "a    -10\n",
      "c      6\n",
      "dtype: int64\n",
      "0      54.598150\n",
      "1    1096.633158\n",
      "2       0.006738\n",
      "3      20.085537\n",
      "dtype: float64\n"
     ]
    }
   ],
   "source": [
    "# NumPy and NumPy-like operations\n",
    "print(obj2[obj2 > 0])  \n",
    "print(obj2 * 2)\n",
    "print(np.exp(obj1))"
   ]
  },
  {
   "cell_type": "code",
   "execution_count": 10,
   "id": "90a856a5",
   "metadata": {},
   "outputs": [
    {
     "name": "stdout",
     "output_type": "stream",
     "text": [
      "Ohio      35000\n",
      "Texas     71000\n",
      "Oregon    16000\n",
      "Utah       5000\n",
      "dtype: int64\n"
     ]
    }
   ],
   "source": [
    "# Creates a series with a Python dictionary\n",
    "sdata = {'Ohio': 35000, 'Texas': 71000, 'Oregon': 16000, 'Utah': 5000}\n",
    "obj3 = pd.Series(sdata)\n",
    "print(obj3)"
   ]
  },
  {
   "cell_type": "code",
   "execution_count": 11,
   "id": "ddb83a8d",
   "metadata": {},
   "outputs": [
    {
     "name": "stdout",
     "output_type": "stream",
     "text": [
      "California        NaN\n",
      "Ohio          35000.0\n",
      "Oregon        16000.0\n",
      "Texas         71000.0\n",
      "dtype: float64\n"
     ]
    }
   ],
   "source": [
    "# Creates a series from an existing series\n",
    "states = ['California', 'Ohio', 'Oregon', 'Texas']\n",
    "obj4 = pd.Series(sdata, index=states)\n",
    "print(obj4)"
   ]
  },
  {
   "cell_type": "code",
   "execution_count": 12,
   "id": "df2e2050",
   "metadata": {},
   "outputs": [
    {
     "name": "stdout",
     "output_type": "stream",
     "text": [
      "State\n",
      "California        NaN\n",
      "Ohio          35000.0\n",
      "Oregon        16000.0\n",
      "Texas         71000.0\n",
      "Name: Population, dtype: float64\n"
     ]
    }
   ],
   "source": [
    "# Label the series\n",
    "obj4.name = 'Population'\n",
    "obj4.index.name = 'State'\n",
    "print(obj4)"
   ]
  },
  {
   "cell_type": "code",
   "execution_count": 24,
   "id": "f4487aa5",
   "metadata": {},
   "outputs": [
    {
     "name": "stdout",
     "output_type": "stream",
     "text": [
      "    state  year  pop\n",
      "0    Ohio  2000  1.5\n",
      "1    Ohio  2001  1.7\n",
      "2    Ohio  2002  3.6\n",
      "3  Nevada  2001  2.4\n",
      "4  Nevada  2002  2.9\n",
      "5  Nevada  2003  3.2\n"
     ]
    }
   ],
   "source": [
    "# Create a Dataframe with a dictionary where values are equal sized list\n",
    "# data = {'state': ['Ohio', 'Ohio', 'Ohio', 'Nevada', 'Nevada', 'Nevada'],\n",
    "#         'year': [2000, 2001, 2002, 2001, 2002, 2003],\n",
    "#         'pop': [1.5, 1.7, 3.6, 2.4, 2.9, 3.2]}\n",
    "\n",
    "data = {'state': ['Ohio', 'Ohio', 'Ohio', 'Nevada', 'Nevada', 'Nevada'],\n",
    "        'year': [2000, 2001, 2002, 2001, 2002, 2003],\n",
    "        'pop': [1.5, 1.7, 3.6, 2.4, 2.9, 3.2]}\n",
    "frame1 = pd.DataFrame(data)\n",
    "print(frame1)"
   ]
  },
  {
   "cell_type": "code",
   "execution_count": 31,
   "id": "129f253e",
   "metadata": {},
   "outputs": [
    {
     "name": "stdout",
     "output_type": "stream",
     "text": [
      "   year   state  pop\n",
      "0  2000    Ohio  1.5\n",
      "1  2001    Ohio  1.7\n",
      "2  2002    Ohio  3.6\n",
      "3  2001  Nevada  2.4\n",
      "4  2002  Nevada  2.9\n",
      "5  2003  Nevada  3.2\n",
      "0      Ohio\n",
      "1      Ohio\n",
      "2      Ohio\n",
      "3    Nevada\n",
      "4    Nevada\n",
      "5    Nevada\n",
      "Name: state, dtype: object\n",
      "0    2000\n",
      "1    2001\n",
      "2    2002\n",
      "3    2001\n",
      "4    2002\n",
      "5    2003\n",
      "Name: year, dtype: int64\n"
     ]
    },
    {
     "data": {
      "text/html": [
       "<div>\n",
       "<style scoped>\n",
       "    .dataframe tbody tr th:only-of-type {\n",
       "        vertical-align: middle;\n",
       "    }\n",
       "\n",
       "    .dataframe tbody tr th {\n",
       "        vertical-align: top;\n",
       "    }\n",
       "\n",
       "    .dataframe thead th {\n",
       "        text-align: right;\n",
       "    }\n",
       "</style>\n",
       "<table border=\"1\" class=\"dataframe\">\n",
       "  <thead>\n",
       "    <tr style=\"text-align: right;\">\n",
       "      <th></th>\n",
       "      <th>year</th>\n",
       "      <th>state</th>\n",
       "      <th>pop</th>\n",
       "    </tr>\n",
       "  </thead>\n",
       "  <tbody>\n",
       "    <tr>\n",
       "      <th>0</th>\n",
       "      <td>None</td>\n",
       "      <td>Ohio</td>\n",
       "      <td>1.5</td>\n",
       "    </tr>\n",
       "    <tr>\n",
       "      <th>1</th>\n",
       "      <td>None</td>\n",
       "      <td>Ohio</td>\n",
       "      <td>1.7</td>\n",
       "    </tr>\n",
       "    <tr>\n",
       "      <th>2</th>\n",
       "      <td>None</td>\n",
       "      <td>Ohio</td>\n",
       "      <td>3.6</td>\n",
       "    </tr>\n",
       "    <tr>\n",
       "      <th>3</th>\n",
       "      <td>None</td>\n",
       "      <td>Nevada</td>\n",
       "      <td>2.4</td>\n",
       "    </tr>\n",
       "    <tr>\n",
       "      <th>4</th>\n",
       "      <td>None</td>\n",
       "      <td>Nevada</td>\n",
       "      <td>2.9</td>\n",
       "    </tr>\n",
       "    <tr>\n",
       "      <th>5</th>\n",
       "      <td>None</td>\n",
       "      <td>Nevada</td>\n",
       "      <td>3.2</td>\n",
       "    </tr>\n",
       "  </tbody>\n",
       "</table>\n",
       "</div>"
      ],
      "text/plain": [
       "   year   state  pop\n",
       "0  None    Ohio  1.5\n",
       "1  None    Ohio  1.7\n",
       "2  None    Ohio  3.6\n",
       "3  None  Nevada  2.4\n",
       "4  None  Nevada  2.9\n",
       "5  None  Nevada  3.2"
      ]
     },
     "execution_count": 31,
     "metadata": {},
     "output_type": "execute_result"
    }
   ],
   "source": [
    "frame2 = pd.DataFrame(data, columns=['year', 'state', 'pop'])  #set column ordering\n",
    "print(frame2)\n",
    "print(frame2['state'])    # present column as series\n",
    "print(frame2.year)        # present column as series"
   ]
  },
  {
   "cell_type": "code",
   "execution_count": 37,
   "id": "c39c86c2",
   "metadata": {},
   "outputs": [
    {
     "name": "stdout",
     "output_type": "stream",
     "text": [
      "       year   state  pop debt\n",
      "one    2000    Ohio  1.5  NaN\n",
      "two    2001    Ohio  1.7  NaN\n",
      "three  2002    Ohio  3.6  NaN\n",
      "four   2001  Nevada  2.4  NaN\n",
      "five   2002  Nevada  2.9  NaN\n",
      "six    2003  Nevada  3.2  NaN\n",
      "year     2002\n",
      "state    Ohio\n",
      "pop       3.6\n",
      "debt      NaN\n",
      "Name: three, dtype: object\n",
      "       year   state  pop  debt\n",
      "one    2000    Ohio  1.5     0\n",
      "two    2001    Ohio  1.7     0\n",
      "three  2002    Ohio  3.6     0\n",
      "four   2001  Nevada  2.4     0\n",
      "five   2002  Nevada  2.9     0\n",
      "six    2003  Nevada  3.2     0\n",
      "       year   state  pop  debt\n",
      "one    2000    Ohio  1.5   NaN\n",
      "two    2001    Ohio  1.7  -1.2\n",
      "three  2002    Ohio  3.6   NaN\n",
      "four   2001  Nevada  2.4  -1.5\n",
      "five   2002  Nevada  2.9  -1.7\n",
      "six    2003  Nevada  3.2   NaN\n",
      "       year   state  pop  debt  eastern\n",
      "one    2000    Ohio  1.5   NaN     True\n",
      "two    2001    Ohio  1.7  -1.2     True\n",
      "three  2002    Ohio  3.6   NaN     True\n",
      "four   2001  Nevada  2.4  -1.5    False\n",
      "five   2002  Nevada  2.9  -1.7    False\n",
      "six    2003  Nevada  3.2   NaN    False\n",
      "       year   state  pop  debt\n",
      "one    2000    Ohio  1.5   NaN\n",
      "two    2001    Ohio  1.7  -1.2\n",
      "three  2002    Ohio  3.6   NaN\n",
      "four   2001  Nevada  2.4  -1.5\n",
      "five   2002  Nevada  2.9  -1.7\n",
      "six    2003  Nevada  3.2   NaN\n"
     ]
    }
   ],
   "source": [
    "# Create a DataFrame with an extra undefined column\n",
    "frame3 = pd.DataFrame(data, columns=['year', 'state', 'pop', 'debt'],index=['one', 'two', 'three', 'four','five', 'six'])\n",
    "print(frame3)\n",
    "print(frame3.loc['three'])\n",
    "frame3['debt'] = 0  # initialize entire column\n",
    "print(frame3)\n",
    "\n",
    "val = pd.Series([-1.2, -1.5, -1.7], index=['two', 'four', 'five'])  # initialize selected columns\n",
    "frame3['debt'] = val\n",
    "print(frame3)\n",
    "\n",
    "frame3['eastern'] = frame3.state == 'Ohio'   # creates new colunm\n",
    "print(frame3)\n",
    "\n",
    "del frame3['eastern']  # delete a column\n",
    "print(frame3)"
   ]
  },
  {
   "cell_type": "markdown",
   "id": "0020ed22",
   "metadata": {},
   "source": [
    "### DataFrame constructor\n",
    "\n",
    "o When passing nested dictionaries to the DataFrame, pandas will interpret the outer dict keys as the columns and the \n",
    "  inner keys as the row indices.\n",
    "  \n",
    "o Table 5-1. Possible data inputs to DataFrame constructor"
   ]
  },
  {
   "cell_type": "code",
   "execution_count": 38,
   "id": "2e23b9f4",
   "metadata": {},
   "outputs": [
    {
     "name": "stdout",
     "output_type": "stream",
     "text": [
      "      Nevada  Ohio\n",
      "2001     2.4   1.7\n",
      "2002     2.9   3.6\n",
      "2000     NaN   1.5\n",
      "        2001  2002  2000\n",
      "Nevada   2.4   2.9   NaN\n",
      "Ohio     1.7   3.6   1.5\n"
     ]
    }
   ],
   "source": [
    "pop = {'Nevada': {2001: 2.4, 2002: 2.9},'Ohio': {2000: 1.5, 2001: 1.7, 2002: 3.6}}\n",
    "frame4 = pd.DataFrame(pop)\n",
    "print(frame4) \n",
    "print(frame4.T)"
   ]
  },
  {
   "cell_type": "markdown",
   "id": "a8e73423",
   "metadata": {},
   "source": [
    "### Index Objects\n",
    "\n",
    "o Index objects used to hold the axis labels and other metadata (like the axis name or names)\n",
    "\n",
    "o Index objects are immutable\n",
    "\n",
    "o Table 5-2. Some Index methods and properties\n"
   ]
  },
  {
   "cell_type": "code",
   "execution_count": 6,
   "id": "24f7ca36",
   "metadata": {},
   "outputs": [
    {
     "name": "stdout",
     "output_type": "stream",
     "text": [
      "Index(['a', 'b', 'c'], dtype='object')\n"
     ]
    },
    {
     "ename": "TypeError",
     "evalue": "Index does not support mutable operations",
     "output_type": "error",
     "traceback": [
      "\u001b[1;31m---------------------------------------------------------------------------\u001b[0m",
      "\u001b[1;31mTypeError\u001b[0m                                 Traceback (most recent call last)",
      "Cell \u001b[1;32mIn[6], line 4\u001b[0m\n\u001b[0;32m      2\u001b[0m index \u001b[38;5;241m=\u001b[39m obj\u001b[38;5;241m.\u001b[39mindex\n\u001b[0;32m      3\u001b[0m \u001b[38;5;28mprint\u001b[39m(index)\n\u001b[1;32m----> 4\u001b[0m \u001b[43mindex\u001b[49m\u001b[43m[\u001b[49m\u001b[38;5;241;43m1\u001b[39;49m\u001b[43m]\u001b[49m \u001b[38;5;241m=\u001b[39m \u001b[38;5;124m'\u001b[39m\u001b[38;5;124md\u001b[39m\u001b[38;5;124m'\u001b[39m\n",
      "File \u001b[1;32m~\\AppData\\Roaming\\jupyterlab-desktop\\jlab_server\\Lib\\site-packages\\pandas\\core\\indexes\\base.py:5371\u001b[0m, in \u001b[0;36mIndex.__setitem__\u001b[1;34m(self, key, value)\u001b[0m\n\u001b[0;32m   5369\u001b[0m \u001b[38;5;129m@final\u001b[39m\n\u001b[0;32m   5370\u001b[0m \u001b[38;5;28;01mdef\u001b[39;00m \u001b[38;5;21m__setitem__\u001b[39m(\u001b[38;5;28mself\u001b[39m, key, value) \u001b[38;5;241m-\u001b[39m\u001b[38;5;241m>\u001b[39m \u001b[38;5;28;01mNone\u001b[39;00m:\n\u001b[1;32m-> 5371\u001b[0m     \u001b[38;5;28;01mraise\u001b[39;00m \u001b[38;5;167;01mTypeError\u001b[39;00m(\u001b[38;5;124m\"\u001b[39m\u001b[38;5;124mIndex does not support mutable operations\u001b[39m\u001b[38;5;124m\"\u001b[39m)\n",
      "\u001b[1;31mTypeError\u001b[0m: Index does not support mutable operations"
     ]
    }
   ],
   "source": [
    "obj = pd.Series(range(3), index=['a', 'b', 'c'])\n",
    "index = obj.index\n",
    "print(index)\n",
    "# index[1] = 'd'\n"
   ]
  },
  {
   "cell_type": "markdown",
   "id": "3908b444",
   "metadata": {},
   "source": [
    "### Essential Functionality\n",
    "\n",
    "o Reindexing - create a new object with the data conformed to a new index\n",
    "\n",
    "o Table 5-3. reindex function arguments"
   ]
  },
  {
   "cell_type": "code",
   "execution_count": 9,
   "id": "ad86a40d",
   "metadata": {},
   "outputs": [
    {
     "name": "stdout",
     "output_type": "stream",
     "text": [
      "d    4.5\n",
      "b    7.2\n",
      "a   -5.3\n",
      "c    3.6\n",
      "dtype: float64\n",
      "a   -5.3\n",
      "b    7.2\n",
      "c    3.6\n",
      "d    4.5\n",
      "e    NaN\n",
      "dtype: float64\n",
      "0      blue\n",
      "2    purple\n",
      "4    yellow\n",
      "dtype: object\n",
      "0      blue\n",
      "1       NaN\n",
      "2    purple\n",
      "3       NaN\n",
      "4    yellow\n",
      "5       NaN\n",
      "dtype: object\n"
     ]
    }
   ],
   "source": [
    "obj1 = pd.Series([4.5, 7.2, -5.3, 3.6], index=['d', 'b', 'a', 'c'])\n",
    "print(obj1)\n",
    "obj2 = obj1.reindex(['a', 'b', 'c', 'd', 'e'])\n",
    "print(obj2)\n",
    "\n",
    "obj3 = pd.Series(['blue', 'purple', 'yellow'], index=[0, 2, 4])\n",
    "print(obj3)\n",
    "obj3 = obj3.reindex(range(6))\n",
    "# obj3 = obj3.reindex(range(6), method='ffill')\n",
    "print(obj3)"
   ]
  },
  {
   "cell_type": "markdown",
   "id": "448a2d32",
   "metadata": {},
   "source": [
    "o Dropping Entries from an Axis - drop method drops one or more more entries from an axis of a Series or Dataframe\n",
    "\n",
    "o The drop method returns a copy by default but it can be called with a parameter that makes the method mutable."
   ]
  },
  {
   "cell_type": "code",
   "execution_count": 51,
   "id": "ce86effc",
   "metadata": {},
   "outputs": [
    {
     "name": "stdout",
     "output_type": "stream",
     "text": [
      "a    0.0\n",
      "b    1.0\n",
      "c    2.0\n",
      "d    3.0\n",
      "e    4.0\n",
      "dtype: float64\n",
      "a    0.0\n",
      "b    1.0\n",
      "d    3.0\n",
      "e    4.0\n",
      "dtype: float64\n",
      "a    0.0\n",
      "b    1.0\n",
      "d    3.0\n",
      "e    4.0\n",
      "dtype: float64\n",
      "          one  two  three  four\n",
      "Ohio        0    1      2     3\n",
      "Colorado    4    5      6     7\n",
      "Utah        8    9     10    11\n",
      "New York   12   13     14    15\n",
      "          one  two  three  four\n",
      "Utah        8    9     10    11\n",
      "New York   12   13     14    15\n",
      "          one  three\n",
      "Ohio        0      2\n",
      "Colorado    4      6\n",
      "Utah        8     10\n",
      "New York   12     14\n"
     ]
    }
   ],
   "source": [
    "obj = pd.Series(np.arange(5.), index=['a', 'b', 'c', 'd', 'e'])\n",
    "print(obj)\n",
    "new_obj = obj.drop('c')\n",
    "print(new_obj)\n",
    "obj.drop('c', inplace=True)\n",
    "print(obj)\n",
    "\n",
    "data = pd.DataFrame(np.arange(16).reshape((4, 4)), index=['Ohio', 'Colorado', 'Utah', 'New York'], columns=['one', 'two', 'three', 'four'])\n",
    "print(data)\n",
    "print(data.drop(['Colorado', 'Ohio']))   # returns copy of rows dropped from dataframe\n",
    "print(data.drop(['two', 'four'], axis='columns'))   # returns copy of columns dropped from dataframe\n"
   ]
  },
  {
   "cell_type": "markdown",
   "id": "13c962fb",
   "metadata": {},
   "source": [
    "o Indexing, Selection, and Filtering\n",
    "\n",
    "    - Series indexing is the same as with NumPy array indexing, except Series’s index values instead of only integers.\n",
    "    \n",
    "    - Slicing with labels behaves differently than normal Python slicing in that the endpoint is inclusive\n",
    "    \n",
    "    - Can apply indexing and slicing to Dataframe columms\n",
    "    \n",
    "    - DataFrame with label-indexed rows, can utlize special indexing operators loc and iloc to retieve a subset matrix\n",
    "    \n",
    "o Table 5-4. Indexing options with DataFrame"
   ]
  },
  {
   "cell_type": "code",
   "execution_count": 10,
   "id": "3b76d5b9",
   "metadata": {},
   "outputs": [
    {
     "name": "stdout",
     "output_type": "stream",
     "text": [
      "a    0.0\n",
      "b    1.0\n",
      "c    2.0\n",
      "d    3.0\n",
      "dtype: float64\n",
      "b    1.0\n",
      "c    2.0\n",
      "dtype: float64\n",
      "a    0.0\n",
      "b    1.0\n",
      "c    2.0\n",
      "dtype: float64\n",
      "a    0.0\n",
      "b    5.0\n",
      "c    5.0\n",
      "d    3.0\n",
      "dtype: float64\n",
      "          one  two  three  four\n",
      "Ohio        0    1      2     3\n",
      "Colorado    4    5      6     7\n",
      "Utah        8    9     10    11\n",
      "New York   12   13     14    15\n",
      "Ohio         1\n",
      "Colorado     5\n",
      "Utah         9\n",
      "New York    13\n",
      "Name: two, dtype: int32\n",
      "          one  two  three  four\n",
      "Ohio        0   10      2     3\n",
      "Colorado    4   10      6     7\n",
      "Utah        8   10     10    11\n",
      "New York   12   10     14    15\n",
      "two      10\n",
      "three     6\n",
      "Name: Colorado, dtype: int64\n",
      "          four  one  two\n",
      "Colorado     7    4   10\n",
      "Utah        11    8   10\n"
     ]
    }
   ],
   "source": [
    "obj = pd.Series(np.arange(4.), index=['a', 'b', 'c', 'd'])\n",
    "print(obj)\n",
    "print(obj[1:3])\n",
    "print(obj['a':'c'])\n",
    "obj['b':'c'] = 5\n",
    "print(obj)\n",
    "\n",
    "data = pd.DataFrame(np.arange(16).reshape((4, 4)), index=['Ohio', 'Colorado', 'Utah', 'New York'], columns=['one', 'two', 'three', 'four'])\n",
    "print(data)\n",
    "print(data['two'])\n",
    "data['two'] = 10\n",
    "print(data)\n",
    "print(data.loc['Colorado', ['two', 'three']])\n",
    "print(data.iloc[[1, 2], [3, 0, 1]])\n"
   ]
  },
  {
   "cell_type": "markdown",
   "id": "c28d9072",
   "metadata": {},
   "source": [
    "### Other essential functionality\n",
    "\n",
    "o Integer Indexes - if numbers are used as labels, they are implicitly converted to strings\n",
    "\n",
    "o Arithmetic and Data Alignment - when adding together objects, if any index pairs are not the same, the respective index\n",
    "  in the result will be the union of the index pairs (Table 5-5. Flexible Series and Dataframe arithmetic methods\n",
    "\n",
    "o Function Application and Mapping - NumPy ufuncs (element-wise array methods) also work with pandas objects\n",
    "\n",
    "o Sorting and Ranking - sorting is done lexicographically by row or column index using the sort_index method which returns\n",
    "  a new, sorted object.  Ranking assigns ranks from one through the number of valid data points in an array.\n",
    "\n",
    "o Axis Indexes with Duplicate Labels - pandas can have duplicate labels on their axis but While many pandas functions many   pandas functions (like reindex) require that the labels be unique"
   ]
  },
  {
   "cell_type": "code",
   "execution_count": null,
   "id": "6a6e679d",
   "metadata": {},
   "outputs": [],
   "source": [
    "s1 = pd.Series([7.3, -2.5, 3.4, 1.5], index=['a', 'c', 'd', 'e'])\n",
    "s2 = pd.Series([-2.1, 3.6, -1.5, 4, 3.1], index=['a', 'c', 'e', 'f', 'g'])\n",
    "print(s1)\n",
    "print(s2)\n",
    "print(s1+s2)\n",
    "df1 = pd.DataFrame(np.arange(9.).reshape((3, 3)), columns=list('bcd'), index=['Ohio', 'Texas', 'Colorado'])\n",
    "df2 = pd.DataFrame(np.arange(12.).reshape((4, 3)), columns=list('bde'), index=['Utah', 'Ohio', 'Texas', 'Oregon'])\n",
    "print(df1)\n",
    "print(df2)\n",
    "print(df1+df2)\n",
    "\n",
    "frame = pd.DataFrame(np.random.randn(4, 3), columns=list('bde'), index=['Utah', 'Ohio', 'Texas', 'Oregon'])\n",
    "print(frame)\n",
    "print (np.abs(frame))\n",
    "\n",
    "obj = pd.Series(range(4), index=['d', 'a', 'b', 'c'])\n",
    "obj.sort_index()\n",
    "print(obj)\n",
    "frame = pd.DataFrame(np.arange(8).reshape((2, 4)), index=['three', 'one'], columns=['d', 'a', 'b', 'c'])\n",
    "print(frame)\n",
    "xframe = frame.sort_index(axis=1)\n",
    "print(xframe)\n",
    "print(frame)\n",
    "yframe = xframe.sort_index()\n",
    "print(yframe)\n",
    "\n",
    "obj = pd.Series([7, -5, 7, 4, 2, 0, 4])\n",
    "print(obj.rank())\n"
   ]
  },
  {
   "cell_type": "markdown",
   "id": "6e824df4",
   "metadata": {},
   "source": [
    "### Summarizing and Computing Descriptive Statistics\n",
    "\n",
    "o pandas objects are equipped with a set of common mathematical and statistical methods\n",
    "\n",
    "o Table 5-8. Descriptive and summary statistics"
   ]
  }
 ],
 "metadata": {
  "kernelspec": {
   "display_name": "Python 3 (ipykernel)",
   "language": "python",
   "name": "python3"
  },
  "language_info": {
   "codemirror_mode": {
    "name": "ipython",
    "version": 3
   },
   "file_extension": ".py",
   "mimetype": "text/x-python",
   "name": "python",
   "nbconvert_exporter": "python",
   "pygments_lexer": "ipython3",
   "version": "3.12.3"
  }
 },
 "nbformat": 4,
 "nbformat_minor": 5
}
