{
 "cells": [
  {
   "cell_type": "markdown",
   "id": "62d99609",
   "metadata": {},
   "source": [
    "## In-Class Group Assignment 2 - NumPy (10 points)\n",
    "### Due: 9/11 (12:50pm)\n",
    "\n",
    "Find your two partners as instructed. Complete the following problem and submit as a group where only one student need turn in the assignment but all students in a group should at least submit a comment indicating who was in their group and also highlighting who is responsible for turning in the assignment. All members of a group should be able to explain any code that has been turned in by the group.\n",
    "\n",
    "This assignment is not just about getting the code working. You are also expected to **add a Markdown cell after your code that explains your code** and **any results obtained**. This is particularly important If the code does not work or is incomplete, provide detailed explaination in the Markdown cell as well.\n",
    "\n",
    "Do **not** use exception handling (try/except) statements. Do **not** use AI (chatGPT, Copilot, etc.) to write your functions.\n",
    "\n",
    "### Write a function in the code cell below that takes as input a 1dNumPy array and returns a 1dNumPy Boolean array containing True values at each location that correspond to the index of the first occurrence of each element in the input array and False values otherwise.  For example:\n",
    "\n",
    "Input:  [9  9  4  8  8  1  5  3  6  3  3  3  2  1  9  5  1  10  7  3]\n",
    "\n",
    "Output: [True False True True False True True True True False False False True False False False False True True False]\n",
    "\n",
    "\n",
    "Input: ['Bob' 'Joe' 'Bob' 'Joe' 'Will' 'Sue' 'Joe' 'Jane']\n",
    "\n",
    "Output:[True True False False True True False True]\n",
    "\n",
    "\n",
    "### Make sure to error check your function input and to include your test case code that calls the function multiple times with different values for you function input."
   ]
  },
  {
   "cell_type": "markdown",
   "id": "59c01fdd-45c5-453d-8810-cf8985035eee",
   "metadata": {},
   "source": [
    "### The function <> takes a valid numpy array as an input. The input array is verified "
   ]
  },
  {
   "cell_type": "markdown",
   "id": "798c4f14",
   "metadata": {},
   "source": [
    "## Extra credit (5 pts.) - Due (9/13 - noon)\n",
    "\n",
    "Write another function that takes two NumPy arrays of identical length as input: a 1dNumPy numeric array (use a numeric array that was used as one of your test inputs to the in-class assignment) and a 1dNumpy Boolean array (use the same array that was generated as the output from the function you wrote for the in-class assignment).   The function should then create and return a Python dictionary where each key in the dictionary corresponds to a value in the numeric NumPy array that has a True value in the exact same index as the value in the numeric NumPy array.   Additionally, each key should have associated with it a value which is a NumPy array containing all the integer indicies in which the key value appears in the original array. \n",
    "\n",
    "Do **not** use exception handling (try/except) statements. Do **not** use AI (chatGPT, Copilot, etc.) to write your functions.\n",
    "\n",
    "### Make sure to error check your function input and to include your test case code that calls the function multiple times with different values for you function input."
   ]
  },
  {
   "cell_type": "code",
   "execution_count": null,
   "id": "8d530221-c55f-4ed4-9625-60c14f690d88",
   "metadata": {},
   "outputs": [],
   "source": []
  }
 ],
 "metadata": {
  "kernelspec": {
   "display_name": "Python 3 (ipykernel)",
   "language": "python",
   "name": "python3"
  },
  "language_info": {
   "codemirror_mode": {
    "name": "ipython",
    "version": 3
   },
   "file_extension": ".py",
   "mimetype": "text/x-python",
   "name": "python",
   "nbconvert_exporter": "python",
   "pygments_lexer": "ipython3",
   "version": "3.12.3"
  }
 },
 "nbformat": 4,
 "nbformat_minor": 5
}
