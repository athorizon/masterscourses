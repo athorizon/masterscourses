{
 "cells": [
  {
   "cell_type": "markdown",
   "id": "9dc00a4e",
   "metadata": {},
   "source": [
    "# In-Class Group Assignment #3 - pandas (10 points)\n",
    "## Due: 9/18 @ 12:45pm exactly\n",
    "\n",
    "Find your two partners as instructed. Complete the following problem and submit as a group where only one student need turn in the assignment but all students in a group should at least submit a comment indicating who was in their group and also highlighting who is responsible for turning in the assignment. All members of a group should be able to explain any code that has been turned in by the group.\n",
    "\n",
    "This assignment is not just about getting the code working. You are also expected to **add a Markdown cell after your code that explains your code** and **any results obtained**. This is particularly important If the code does not work or is incomplete, provide detailed explaination in the Markdown cell as well.   \n",
    "\n",
    "**Note**: You do not need create function in this assignment.\n",
    "\n",
    "### 1. Load the attached Excel file into a Dataframe.\n"
   ]
  },
  {
   "cell_type": "markdown",
   "id": "1695583d",
   "metadata": {},
   "source": [
    "### SOLUTION : The below cell will read the grades_f24.xlsx into a pandas dataframe"
   ]
  },
  {
   "cell_type": "code",
   "execution_count": null,
   "id": "3aa0ccc1",
   "metadata": {},
   "outputs": [],
   "source": [
    "import pandas as pd\n",
    "df = pd.read_excel('grades_f24.xlsx')\n",
    "df"
   ]
  },
  {
   "cell_type": "markdown",
   "id": "7818c497",
   "metadata": {},
   "source": [
    "### 2. Create a new DataFrame from the DataFrame created in Problem #1 that only contains the columns for the seven Homework Assignements (#1 - #7), seven In-Class Assignment (#1 - #7), six Presentations columns, three Exam columns (Midterm #1, Midterm #2, Final)  and the Project column.   Replace any the NaN values with 0.\n"
   ]
  },
  {
   "cell_type": "markdown",
   "id": "4b508312",
   "metadata": {},
   "source": [
    "### SOLUTION: To remove specific columns from the dataframe, we have more then one way to do that<br>\n",
    "\n",
    "Firstly we will make a copy of the original dataframe, in the new dataframe **newdf**, we will call the **drop** method and passing the range of the columns to be dropped. All the operation performed are inplace so the dataframe is directly updated.<br>\n",
    "Once we have dropped the required columns, we can now fill the na values with a default value of 0."
   ]
  },
  {
   "cell_type": "code",
   "execution_count": null,
   "id": "d380257a",
   "metadata": {},
   "outputs": [],
   "source": [
    "\n",
    "# dfcolumns = list(df.columns)\n",
    "# # creating a list of columns and then slicing out the unecessary columns\n",
    "# del dfcolumns[0:1]\n",
    "# del dfcolumns[14:25]\n",
    "# newdf = pd.DataFrame(df, columns = dfcolumns)\n",
    "# print(f\"removed columns after slicing : \\n {newdf.columns}\")\n",
    "\n",
    "#dropping columns from the original dataframe\n",
    "newdf = df.copy()\n",
    "newdf.drop(columns=newdf.columns[15:26],inplace=True)\n",
    "newdf.drop(columns=newdf.columns[0:1],inplace=True)\n",
    "\n",
    "\n",
    "# print(f\"columns in df : {df.columns}\")\n",
    "# print(f\"columns after using drop functions : /n{newdf.columns}\")\n",
    "newdf.fillna(0,inplace=True)\n",
    "newdf"
   ]
  },
  {
   "cell_type": "markdown",
   "id": "e7927558",
   "metadata": {},
   "source": [
    "### 3. Create a new DataFrame from the DataFrame created in Problem #2 that contains five columns.  One column should contain values of the sum of the values in that row for the Homework scores, another for the In-Class scores, and a third containing the sum of the Presentation scores.   The fourth column should just be the project column copied into the dataset and the fifth column should be an Total contain the sum of the values in the other four columns just created.   \n"
   ]
  },
  {
   "cell_type": "markdown",
   "id": "24d25e96",
   "metadata": {},
   "source": [
    "### SOLUTION: Finally we have the data that we require and now we can do the mathematical operations\n",
    "\n",
    "Initially, we can get the sum of the required columns as an individual lists in **sum_homework**,**sum_inclass**,**sum_presentation** with the help of sum function of the dataframe which will return the sum of columns for every row<br>\n",
    "with the newly created list, we can add them in a **dict** with an additional column **Project** from the dataframe as it is and can easily create a new dataframe with the dict **data**.\n",
    "\n",
    "With the data available, we can now insert the column **Total** which will hold the sum of all the columns present in the current dataframe **sumdf** using the **insert()** and get the resultant dataframe."
   ]
  },
  {
   "cell_type": "code",
   "execution_count": null,
   "id": "58b1b772",
   "metadata": {},
   "outputs": [],
   "source": [
    "sum_homework = newdf[newdf.columns[:7]].sum(axis=1)\n",
    "sum_inclass = newdf[newdf.columns[7:14]].sum(axis=1)\n",
    "sum_presentation = newdf[newdf.columns[14:20]].sum(axis=1)\n",
    "\n",
    "data = {'StudentId':df['Student ID'],'Homework':sum_homework,'InClass':sum_inclass,'Presentation':sum_presentation,'Project':newdf['Project']}\n",
    "sumdf = pd.DataFrame(data)\n",
    "sumdf.insert(loc = len(sumdf.columns),column = 'Total',value = sumdf[sumdf.columns[1:]].sum(axis=1))\n",
    "sumdf\n",
    "\n"
   ]
  },
  {
   "cell_type": "markdown",
   "id": "ee3ec806",
   "metadata": {},
   "source": [
    "\n",
    "### Extra Credit (5 pts.) - Due: 9/20 - noon\n",
    "### Create a new DataFrame from the DataFrame created in Problem #3 that contains one additional column.  This should contain values of the sum of the values in that row for the Extra Credit scores.   incorporate these scores into the total column with one important caveat.    The number of extra credit points + number of homework points + number of in-class points cannot exceed a value of 200.\n"
   ]
  },
  {
   "cell_type": "markdown",
   "id": "ef338aa3",
   "metadata": {},
   "source": [
    "### SOLUTION: We can do a logical operation for the total \n",
    "\n",
    "Firstly we have to make a copy of the previous dataframe **sumdf** and drop the column **Total**.<br><br>\n",
    "Now we can extract the sum of extracredit columns from the original dataframe **df** and insert it the newly created dataframe<br>\n",
    "simultaneously, we can now two list for the sum of **inclass, homework, extracredit** and pending columns **presentation** and **project**.<br><br>\n",
    "Now to maintain a maximum score of 200 from the **inclass, homework, extracredit** sum, we can use the **numpy where** function and check where the value of the respective column is less then 200, then use the value to do a summation with **presentation** and **project** otherwise directly sum the later with 200.<br>\n",
    "The resultant will the total with the applied logic."
   ]
  },
  {
   "cell_type": "code",
   "execution_count": null,
   "id": "7d73bc57-145c-441f-bf8d-fd13b7c50948",
   "metadata": {},
   "outputs": [],
   "source": [
    "import numpy as np\n",
    "\n",
    "#copying the previous dataframe\n",
    "extracredit_df = sumdf.copy()\n",
    "#dropping Total column as a new total is to calculated\n",
    "extracredit_df.drop('Total',axis=1,inplace=True)\n",
    "\n",
    "#getting the sum of extracredits columns from the original dataframe\n",
    "sum_extracredit = df[df.columns[15:25]].sum(axis=1)\n",
    "\n",
    "#inserting the newly created column in the dataframe\n",
    "extracredit_df.insert(3,'Extracredit',sum_extracredit)\n",
    "# print(extracredit_df)\n",
    "\n",
    "# getting the sum of homework, inclass and extracredit\n",
    "extracredit_total = extracredit_df[extracredit_df.columns[1:4]].sum(axis=1)\n",
    "# getting the sum of remaining columns: projects and presentation\n",
    "rem_total = extracredit_df[extracredit_df.columns[4:6]].sum(axis=1)\n",
    "# print(extracredit_total)\n",
    "extracredit_df.insert(loc=len(extracredit_df.columns),column='Total',value=np.where(extracredit_total>=200,200+rem_total,extracredit_total+rem_total))\n",
    "extracredit_df"
   ]
  }
 ],
 "metadata": {
  "kernelspec": {
   "display_name": "Python 3 (ipykernel)",
   "language": "python",
   "name": "python3"
  },
  "language_info": {
   "codemirror_mode": {
    "name": "ipython",
    "version": 3
   },
   "file_extension": ".py",
   "mimetype": "text/x-python",
   "name": "python",
   "nbconvert_exporter": "python",
   "pygments_lexer": "ipython3",
   "version": "3.10.6"
  }
 },
 "nbformat": 4,
 "nbformat_minor": 5
}
