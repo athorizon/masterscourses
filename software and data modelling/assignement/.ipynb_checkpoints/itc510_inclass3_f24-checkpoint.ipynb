{
 "cells": [
  {
   "cell_type": "markdown",
   "id": "62d99609",
   "metadata": {},
   "source": [
    "# In-Class Group Assignment #3 - pandas (10 points)\n",
    "## Due: 9/18 @ 12:45pm exactly\n",
    "\n",
    "Find your two partners as instructed. Complete the following problem and submit as a group where only one student need turn in the assignment but all students in a group should at least submit a comment indicating who was in their group and also highlighting who is responsible for turning in the assignment. All members of a group should be able to explain any code that has been turned in by the group.\n",
    "\n",
    "This assignment is not just about getting the code working. You are also expected to **add a Markdown cell after your code that explains your code** and **any results obtained**. This is particularly important If the code does not work or is incomplete, provide detailed explaination in the Markdown cell as well.   \n",
    "\n",
    "**Note**: You do not need create function in this assignment.\n",
    "\n",
    "### 1. Load the attached Excel file into a Dataframe.\n"
   ]
  },
  {
   "cell_type": "code",
   "execution_count": 5,
   "id": "3aa0ccc1",
   "metadata": {},
   "outputs": [
    {
     "ename": "SyntaxError",
     "evalue": "(unicode error) 'unicodeescape' codec can't decode bytes in position 2-3: truncated \\UXXXXXXXX escape (3766296993.py, line 2)",
     "output_type": "error",
     "traceback": [
      "\u001b[1;36m  Cell \u001b[1;32mIn[5], line 2\u001b[1;36m\u001b[0m\n\u001b[1;33m    df = pd.read_excel(\"C:\\Users\\kunal\\college\\software and data modelling\\assignement\\grades_f24.xlsx\")\u001b[0m\n\u001b[1;37m                       ^\u001b[0m\n\u001b[1;31mSyntaxError\u001b[0m\u001b[1;31m:\u001b[0m (unicode error) 'unicodeescape' codec can't decode bytes in position 2-3: truncated \\UXXXXXXXX escape\n"
     ]
    }
   ],
   "source": [
    "import pandas as pd\n",
    "df = pd.read_excel(\"C:\\Users\\kunal\\college\\software and data modelling\\assignement\\grades_f24.xlsx\")"
   ]
  },
  {
   "cell_type": "markdown",
   "id": "7818c497",
   "metadata": {},
   "source": [
    "### 2. Create a new DataFrame from the DataFrame created in Problem #1 that only contains the columns for the seven Homework Assignements (#1 - #7), seven In-Class Assignment (#1 - #7), six Presentations columns, three Exam columns (Midterm #1, Midterm #2, Final)  and the Project column.   Replace any the NaN values with 0.\n"
   ]
  },
  {
   "cell_type": "code",
   "execution_count": null,
   "id": "d380257a",
   "metadata": {},
   "outputs": [],
   "source": []
  },
  {
   "cell_type": "markdown",
   "id": "e7927558",
   "metadata": {},
   "source": [
    "### 3. Create a new DataFrame from the DataFrame created in Problem #2 that contains five columns.  One column should contain values of the sum of the values in that row for the Homework scores, another for the In-Class scores, and a third containing the sum of the Presentation scores.   The fourth column should just be the project column copied into the dataset and the fifth column should be an Total contain the sum of the values in the other four columns just created.   \n"
   ]
  },
  {
   "cell_type": "code",
   "execution_count": null,
   "id": "58b1b772",
   "metadata": {},
   "outputs": [],
   "source": []
  },
  {
   "cell_type": "markdown",
   "id": "ee3ec806",
   "metadata": {},
   "source": [
    "\n",
    "### Extra Credit (5 pts.) - Due: 9/20 - noon\n",
    "### Create a new DataFrame from the DataFrame created in Problem #3 that contains one additional column.  This should contain values of the sum of the values in that row for the Extra Credit scores.   incorporate these scores into the total column with one important caveat.    The number of extra credit points + number of homework points + number of in-class points cannot exceed a value of 200.\n"
   ]
  },
  {
   "cell_type": "code",
   "execution_count": null,
   "id": "7d73bc57-145c-441f-bf8d-fd13b7c50948",
   "metadata": {},
   "outputs": [],
   "source": []
  }
 ],
 "metadata": {
  "kernelspec": {
   "display_name": "Python 3 (ipykernel)",
   "language": "python",
   "name": "python3"
  },
  "language_info": {
   "codemirror_mode": {
    "name": "ipython",
    "version": 3
   },
   "file_extension": ".py",
   "mimetype": "text/x-python",
   "name": "python",
   "nbconvert_exporter": "python",
   "pygments_lexer": "ipython3",
   "version": "3.12.3"
  }
 },
 "nbformat": 4,
 "nbformat_minor": 5
}
