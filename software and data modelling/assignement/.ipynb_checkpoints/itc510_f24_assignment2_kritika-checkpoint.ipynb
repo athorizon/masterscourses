{
 "cells": [
  {
   "cell_type": "markdown",
   "id": "446fd996",
   "metadata": {},
   "source": [
    "# Assignment 2 - NumPy (20 points) \n",
    "## Due: 9/15/24 (10pm)\n",
    "\n",
    "This assignment is desiged to give you some hands-on practice with NumPy.\n",
    "\n",
    "For all problems, when asked to write a function you must include code **within the function** to check for valid input parameter values as well as code that calls the function for multipe test cases with valid **and** invalid actual parameter values.  Do **not** use exception handling (**try/except**) statements.  Do **not** use AI (chatGPT, Copilot, etc.) to write your functions.\n",
    "\n",
    "**Make sure to add a Markdown cell after your code cell for each problem that explains your test cases and results**.\n",
    "\n",
    "This assignment can be done individually or as a group of up to **three students**. Only one student should turn in the assignment but all students in a group should at least submit a comment indicating who was in their group and specifying who is responsible for turning in the assignment. All members of a group should be able to explain any code that has been turned in by the group."
   ]
  },
  {
   "cell_type": "markdown",
   "id": "df75e2a7",
   "metadata": {},
   "source": [
    "### 1. In the code cell below, write a Python function that generates and returns a one-dimensional numPy array of odd integers starting between parameter provided lower and upper bound limits.  The function should only accept positive integer as input.   If the user calls the function with the lowerbound value first, it should create the array in ascending order.   Othewise, it should create the array in descending order.\n",
    "\n",
    "### In Markdown cells, describe your code and explain your test case code results for multiple calls to the function with different values (both valid and invalid) for you function input.\n"
   ]
  },
  {
   "cell_type": "code",
   "execution_count": 52,
   "id": "dbe3a9bc-e81a-453e-9d12-e5ed6a692292",
   "metadata": {},
   "outputs": [],
   "source": [
    "# this cell is required for all the code cells\n",
    "\n",
    "import numpy as np\n",
    "#utility method to check an input is positive integer or not, used by multiple methods\n",
    "def checkpositiveIntegerInput(input):  \n",
    "    if(input is None):\n",
    "        return False\n",
    "    if(type(input) ==str):\n",
    "        if(not input.isnumeric()):\n",
    "            return False\n",
    "        else:\n",
    "            input = int(input)\n",
    "    if(type(input) != int):\n",
    "        return False\n",
    "    if(input<0):\n",
    "        return False\n",
    "    return True\n"
   ]
  },
  {
   "cell_type": "code",
   "execution_count": 53,
   "id": "d557b39e-c26e-45f4-8d9b-5bd6aee5938b",
   "metadata": {},
   "outputs": [],
   "source": [
    "def oneNumpyArray(lbound, hbound):\n",
    "    # print(f\" lbound : {checkInput(lbound)}\")\n",
    "    # print(f\" hbound : {checkInput(hbound)}\")\n",
    "    if(not checkpositiveIntegerInput(lbound) or not checkpositiveIntegerInput(hbound)):\n",
    "        return f\"Please enter a valid input for the upper or lower bound value,only positive integer values are expected. Current values are {lbound} and {hbound}\"\n",
    "    if(type(lbound) == str):\n",
    "        lbound=int(lbound)\n",
    "    if(type(hbound) == str):\n",
    "        hbound=int(hbound)\n",
    "    if(lbound == hbound):\n",
    "        return f\"The bound limits are equal, this will create an empty array. Please Enter valid integer inputs\"\n",
    "    if(lbound<hbound):\n",
    "        return np.arange(lbound+1 if lbound%2==0 else lbound, hbound,2)\n",
    "    else:\n",
    "        # print(hbound+1 if hbound%2==0 else hbound)\n",
    "        return np.arange(hbound+1 if hbound%2==0 else hbound, lbound,2)[::-1]\n",
    "\n"
   ]
  },
  {
   "cell_type": "markdown",
   "id": "82a74bf9-e61c-4169-99d0-c79918c69a45",
   "metadata": {},
   "source": [
    "### In the code, first, checkpositiveIntegerInput(input) checks the input provided by the user. The input meeds integer and should not be none only than the it will proceed forward. oneNumpyArray(lbound, hbound) takes two parameters lowerbpund and higherbound. The types of both lower and upper bounds will be checked, if both lower and upper bounds are having integer value only then we can ha otherwise the function returns False. "
   ]
  },
  {
   "cell_type": "markdown",
   "id": "da75538f-f97d-4d76-ab90-c2154011d2d0",
   "metadata": {},
   "source": [
    "### Test 1: Happy flow\n",
    "**This is a happy flow and returns a one dimensional numpy array for the input \"2,10\".**\n",
    "\n",
    "### Test 2: inputs are having one string value which cannot be converted into integer for input: \"'h',10\"\n",
    "**This input fails as the input has string value that can't be converted to integer, and this print a message : \" Please enter a valid input for the upper or lower bound value,only positive integer values are expected. Current values are h and 10**\n",
    "\n",
    "### Test 3: input has first higherbound then lowerbound for input \"15,3\"\n",
    "**This input works fine and returns array in descending order for the given inputs.**\n",
    "\n",
    "### Test 4: input has integer values for input \"5,50\"\n",
    "**This works fine and returns array in ascending order for the given input.**\n",
    "\n",
    "### Test 5: input has same values with input \"0,0\"\n",
    "**As both the higher and lower bounds are same, this will print a message that says\"The bound limits are equal, this will create an empty array. Please Enter valid integer inputs\".**\n",
    "\n",
    "### Test 6: input has non numerical value with input \"'a','b'\"\n",
    "**As both the values are in string and cannot be converted so this will print a message saying \"Please enter a valid input for the upper or lower bound value,only positive integer values are expected. Current values are a and b\".**\n",
    "\n",
    "### Test 7: input has integer values for input \"'2','25'\"\n",
    "**For this input, the string values first converted into integer value and then the array generated in ascending order.**\n"
   ]
  },
  {
   "cell_type": "code",
   "execution_count": 54,
   "id": "ee85e0ce-9429-4596-8757-ba2d00c26f5b",
   "metadata": {},
   "outputs": [
    {
     "name": "stdout",
     "output_type": "stream",
     "text": [
      "TestCase1\n",
      "[3 5 7 9]\n",
      "\n",
      "\n",
      "TestCase2\n",
      "Please enter a valid input for the upper or lower bound value,only positive integer values are expected. Current values are h and 10\n",
      "\n",
      "\n",
      "TestCase3\n",
      "[13 11  9  7  5  3]\n",
      "\n",
      "\n",
      "TestCase4\n",
      "[ 5  7  9 11 13 15 17 19 21 23 25 27 29 31 33 35 37 39 41 43 45 47 49]\n",
      "\n",
      "\n",
      "TestCase5\n",
      "The bound limits are equal, this will create an empty array. Please Enter valid integer inputs\n",
      "\n",
      "\n",
      "TestCase6\n",
      "Please enter a valid input for the upper or lower bound value,only positive integer values are expected. Current values are a and b\n",
      "\n",
      "\n",
      "TestCase7\n",
      "[ 3  5  7  9 11 13 15 17 19 21 23]\n",
      "\n",
      "\n"
     ]
    }
   ],
   "source": [
    "print(\"TestCase1\")\n",
    "print(oneNumpyArray(2,10))  #TestCase1\n",
    "\n",
    "print(\"\\n\\nTestCase2\")\n",
    "print(oneNumpyArray('h',10))#TestCase2\n",
    "\n",
    "print(\"\\n\\nTestCase3\")\n",
    "print(oneNumpyArray(15,3))#TestCase3\n",
    "\n",
    "print(\"\\n\\nTestCase4\")\n",
    "print(oneNumpyArray(5,50))#TestCase4\n",
    "\n",
    "print(\"\\n\\nTestCase5\")\n",
    "print(oneNumpyArray(0,0))#TestCase5\n",
    "\n",
    "print(\"\\n\\nTestCase6\")\n",
    "print(oneNumpyArray('a','b'))#TestCase6\n",
    "\n",
    "print(\"\\n\\nTestCase7\")\n",
    "print(oneNumpyArray('2','25'))#TestCase7\n",
    "\n",
    "print(\"\\n\")\n"
   ]
  },
  {
   "cell_type": "markdown",
   "id": "6899de4e",
   "metadata": {},
   "source": [
    "### 2. In the code cell below, write a Python function that generates and returns an MxN numPy array with random integer values ranging from 1 to 1000.  The function should be provided as input (parameters) with values for M that range between 1 and 4 and N that are between 1 and 6.\n",
    "\n",
    "### In Markdown cells, describe your code and explain your test case code results for multiple calls to the function with different values (both valid and invalid) for you function input.\n"
   ]
  },
  {
   "cell_type": "code",
   "execution_count": 55,
   "id": "2c0379ba",
   "metadata": {},
   "outputs": [],
   "source": [
    "def twoNumpyArray(m,n):\n",
    "    if(not checkpositiveIntegerInput(m) or not checkpositiveIntegerInput(n)):\n",
    "        return f\"Please enter a valid value for the dimension of the array, only positive integer in range M[1-4] and N[1-6] are expected. Currently m: {m} and n : {n}\"\n",
    "    if(type(m) == str):\n",
    "        m=int(m)\n",
    "    if(type(n) == str):\n",
    "        n=int(n)\n",
    "    if(type(m)!=int and type(n)!=int):\n",
    "        return f\"Please enter a valid value for the dimension of the array, only positive integer in range M[1-4] and N[1-6] are expected. Currently m: {m} and n : {n}\"\n",
    "    if(m<1 or m>4):\n",
    "        return f\"Please enter a valid value for the M dimension of the array, only positive integer in range M[1-4] are expected. Currently m: {m} and n : {n}\"\n",
    "    if(n<1 or n>6):\n",
    "        return f\"Please enter a valid value for the N dimension of the array, only positive integer in range N[1-6] are expected. Currently m: {m} and n : {n}\"\n",
    "    return np.random.randint(1,1000,m*n).reshape(m,n)\n",
    "\n",
    "\n"
   ]
  },
  {
   "cell_type": "markdown",
   "id": "8f76ac7f-5222-438b-8ac7-1ca2883680c3",
   "metadata": {},
   "source": [
    "### In the below code, first the inputs (both m and n) will be verified. then, if any of the input is not integer the program print the message for valid value. Program also checks if the given value of M lies between 1 and 4 and for N the values lies between 1 and 6. However, if both the inputs m and n are correct then the program returns MxN numPy array made with random integers that lies between 1 to 1000, that is decided by the program itself. "
   ]
  },
  {
   "cell_type": "markdown",
   "id": "4d1a9356-6221-4766-9939-f7eab75c3e91",
   "metadata": {},
   "source": [
    "### Test 1: inputs are integers so a positive result for input 3,2\n",
    "**This returns 3x2 numpy array for the input \"3,2\".**\n",
    "\n",
    "### Test 2: inputs are having one string value which cannot be converted into integer for input: \"'h',2\"\n",
    "**This input fails as the input has string value that can't be converted to integer, and this print a message : \"Please enter a valid value for the dimension of the array, only positive integer in range M[1-4] and N[1-6] are expected. Currently m: h and n : 2**\n",
    "\n",
    "### Test 3: valid inputs so matrix will be made for input \"2,5\"\n",
    "**This input works fine and returns 2x5 numPy array**\n",
    "\n",
    "### Test 4: input has integer values for input \"1,9\"\n",
    "**This will not work as the value of n is greater than 6 so it will print message \"Please enter a valid value for the N dimension of the array, only positive integer in range N[1-6] are expected. Currently m: 1 and n : 9**\n",
    "\n",
    "### Test 5: input has valid values with input \"4,6\"\n",
    "**this will return 4x6 numPy array.**\n",
    "\n",
    "### Test 6: one input has negative value with input \"-1,4\"\n",
    "**As the value of M is less than 1 so this will print a message saying \"Please enter a valid value for the dimension of the array, only positive integer in range M[1-4] and N[1-6] are expected. Currently m: -1 and n : 4**\n",
    "\n",
    "### Test 7: input has integer values for input \"'3','2'\"\n",
    "**For this input, the string values first converted into integer value and then the 3x2 numPy array will be generated.**"
   ]
  },
  {
   "cell_type": "code",
   "execution_count": 56,
   "id": "52c2e8f9-f3d5-4e6a-920d-7e2eb7b1c297",
   "metadata": {},
   "outputs": [
    {
     "name": "stdout",
     "output_type": "stream",
     "text": [
      "TestCase1\n",
      "[[959 698]\n",
      " [704 349]\n",
      " [337 739]]\n",
      "\n",
      "\n",
      "TestCase2\n",
      "Please enter a valid value for the dimension of the array, only positive integer in range M[1-4] and N[1-6] are expected. Currently m: h and n : 2\n",
      "\n",
      "\n",
      "TestCase3\n",
      "[[314  27 654 638 721]\n",
      " [256 768 197 663 147]]\n",
      "\n",
      "\n",
      "TestCase4\n",
      "Please enter a valid value for the N dimension of the array, only positive integer in range N[1-6] are expected. Currently m: 1 and n : 9\n",
      "\n",
      "\n",
      "TestCase5\n",
      "[[928 627 191 475 144 844]\n",
      " [482 476 364 546  94 727]\n",
      " [290 978  10 497 819 194]\n",
      " [839 550   9 394 710 232]]\n",
      "\n",
      "\n",
      "TestCase6\n",
      "Please enter a valid value for the dimension of the array, only positive integer in range M[1-4] and N[1-6] are expected. Currently m: -1 and n : 4\n",
      "\n",
      "\n",
      "TestCase7\n",
      "[[ 78 983]\n",
      " [695 863]\n",
      " [172 826]]\n",
      "\n",
      "\n"
     ]
    }
   ],
   "source": [
    "print(\"TestCase1\")\n",
    "print(twoNumpyArray(3,2))  #TestCase1\n",
    "\n",
    "print(\"\\n\\nTestCase2\")\n",
    "print(twoNumpyArray('h',2))#TestCase2\n",
    "\n",
    "print(\"\\n\\nTestCase3\")\n",
    "print(twoNumpyArray(2,5))#TestCase3\n",
    "\n",
    "print(\"\\n\\nTestCase4\")\n",
    "print(twoNumpyArray(1,9))#TestCase4\n",
    "\n",
    "print(\"\\n\\nTestCase5\")\n",
    "print(twoNumpyArray(4,6))#TestCase5\n",
    "\n",
    "print(\"\\n\\nTestCase6\")\n",
    "print(twoNumpyArray(-1,4))#TestCase6\n",
    "\n",
    "print(\"\\n\\nTestCase7\")\n",
    "print(twoNumpyArray('3','2'))#TestCase7\n",
    "\n",
    "print(\"\\n\")"
   ]
  },
  {
   "cell_type": "markdown",
   "id": "3b9fc11f",
   "metadata": {},
   "source": [
    "### 3. In the code cell below, write a Python function that takes as input (parameters) a Python dictionary and a second parameter that can be anything.   The function should then evaluate the second parameter to determine the variable's type.   It should then create a return two numPy arrays containing the keys and values from the parameter provided Python dictionary containing only the values from the orignal Python dictionary that are of the same type as the second input parameter.  The two arrays should be parallel arrays with one array contains the keys from the dictionary and the second array contains the corresponding values associated with those keys ande each key's index should have it's corresponding value at the same index in the second array.   This function need only handle the primitive data types integer, float, string, and boolean.\n",
    "\n",
    "### In Markdown cells, describe your code and explain your test case code results for multiple calls to the function with different values (both valid and invalid) for you function input."
   ]
  },
  {
   "cell_type": "code",
   "execution_count": 57,
   "id": "7e888d25-fd2e-4912-b53b-7c21f338ddfe",
   "metadata": {},
   "outputs": [
    {
     "name": "stdout",
     "output_type": "stream",
     "text": [
      "dict_values([1, 1.2, 'abc', 13, 'asf', '1.23', True, 'jndoj', 5.787, 1231, False, None, -123, 42.13, True])\n"
     ]
    }
   ],
   "source": [
    "# dict={1:1, 2:1.2, 3:'abc', 4:13, 5:'asf', 6:'1.23', 7:['abc','12',123], 8:(1,2,3,4,), 9:{1:1,2:2,3:3},\n",
    "#       10:True, 11:[1,2,3,4], 12:'jndoj', 13:{1:1,2:2,3:3}, 14:5.787, 15:1231, 16:('a','b','c'), 17:['a','b','c'], 18:False, 19:None, 20:-123, 21:42.13, 22:True,\n",
    "#      23: 'sdjvnkndfv'}\n",
    "\n",
    "d={1:1, 2:1.2, 3:'abc', 4:13, 5:'asf', 6:'1.23',\n",
    "      7:True, 8:'jndoj', 9:5.787, 10:1231, 11:False, 12:None, 13:-123, 14:42.13, 15:True}\n",
    "print(d.values())\n",
    "keys = np.array(d.keys())\n",
    "values = np.array(d.values())\n",
    "\n",
    "def dictValues(dic, param):\n",
    "    keys= []\n",
    "    values=[]\n",
    "    for val in dic.keys():\n",
    "        # print(f\"type of value : {dic.get(val)} at index {val} is {type(dic.get(val))}\")\n",
    "        if(type(dic.get(val)) == type(param)):\n",
    "            keys.append(val)\n",
    "            values.append(dic.get(val))\n",
    "    print(f\"key : {keys}\")\n",
    "    print(f\"values : {values}\")\n",
    "\n"
   ]
  },
  {
   "cell_type": "markdown",
   "id": "dad673d2-255e-4f02-850c-6bf2ba6500e3",
   "metadata": {},
   "source": [
    "### In the code mentioned above, the dictionary is assigned with keys and values. first the keys and values are assigned with empty list. According to the input provided, the keys list and values list will get appended with the user desired the keys and values."
   ]
  },
  {
   "cell_type": "markdown",
   "id": "2981cde2-23d6-4406-991a-9ed6cec1cb35",
   "metadata": {},
   "source": [
    "### Test 1: inputs are right so a positive result for input d,False\n",
    "**This returns list of values which are boolean and list of its corresponding keys for the input \"d,False\".**\n",
    "\n",
    "### Test 2: inputs are: \"d,'a'\"\n",
    "**This returns list of values which are string and list of its corresponding keys for the input \"d,'a'\".**\n",
    "\n",
    "### Test 3:  for input \"d,None\"\n",
    "**This returns list of values which are None and list of its corresponding keys for the input \"d,None\".**\n",
    "\n",
    "### Test 4: values for input \"d,42.13\"\n",
    "**This returns list of values which are Float and list of its corresponding keys for the input \"d,None\".**\n",
    "\n",
    "### Test 5: input has valid values with input \"d,6\"\n",
    "**This returns list of values which are Integer and list of its corresponding keys for the input \"d,6\".**\n",
    "\n",
    "### Test 6: one input has negative value with input \"d,2.13\"\n",
    "**This returns list of values which are Float and list of its corresponding keys for the input \"d,2.13\".**\n"
   ]
  },
  {
   "cell_type": "code",
   "execution_count": 58,
   "id": "7b05244e-0ed0-4eb6-ae56-e0013ff7c6d0",
   "metadata": {},
   "outputs": [
    {
     "name": "stdout",
     "output_type": "stream",
     "text": [
      "\n",
      "TestCase1\n",
      "key : [7, 11, 15]\n",
      "values : [True, False, True]\n",
      "\n",
      "\n",
      "TestCase2\n",
      "key : [3, 5, 6, 8]\n",
      "values : ['abc', 'asf', '1.23', 'jndoj']\n",
      "\n",
      "\n",
      "TestCase3\n",
      "key : [12]\n",
      "values : [None]\n",
      "\n",
      "\n",
      "TestCase4\n",
      "key : [2, 9, 14]\n",
      "values : [1.2, 5.787, 42.13]\n",
      "\n",
      "\n",
      "TestCase5\n",
      "key : [1, 4, 10, 13]\n",
      "values : [1, 13, 1231, -123]\n",
      "\n",
      "\n",
      "TestCase6\n",
      "key : [2, 9, 14]\n",
      "values : [1.2, 5.787, 42.13]\n",
      "\n",
      "\n"
     ]
    }
   ],
   "source": [
    "print(\"\\nTestCase1\")\n",
    "dictValues(d,False)  #TestCase1\n",
    "\n",
    "print(\"\\n\\nTestCase2\")\n",
    "dictValues(d,'a')#TestCase2\n",
    "\n",
    "print(\"\\n\\nTestCase3\")\n",
    "dictValues(d,None)#TestCase3\n",
    "\n",
    "print(\"\\n\\nTestCase4\")\n",
    "dictValues(d,42.13)#TestCase4\n",
    "\n",
    "print(\"\\n\\nTestCase5\")\n",
    "dictValues(d,6)#TestCase5\n",
    "\n",
    "print(\"\\n\\nTestCase6\")\n",
    "dictValues(d,2.13)#TestCase6\n",
    "\n",
    "print(\"\\n\")"
   ]
  },
  {
   "cell_type": "markdown",
   "id": "5f0c6b3d",
   "metadata": {},
   "source": [
    "### 4.  In the code cell below, write a Python function that takes as input a two-dimensional _numerical_ numPy array and then computes and returns a new two-dimension numPy array containing the mean, median, standard deviation of each _row_ where he result of he three computations is placed into three additional columns so that each aggregate value computed is placed in the same row as the values used in the calculation.   In other words, the array you return should have the same number of rows as he original but with three additional columns.\n",
    "\n",
    "### In Markdown cells, describe your code and explain your test case code results for multiple calls to the function with different values (both valid and invalid) for you function input."
   ]
  },
  {
   "cell_type": "code",
   "execution_count": 59,
   "id": "1855ebc6",
   "metadata": {},
   "outputs": [],
   "source": [
    "import random as rand\n",
    "def randNPArray():\n",
    "    m=rand.randrange(4,8)\n",
    "    n=rand.randrange(4,8)\n",
    "    # print(f\"m : {m} | n : {n}\")\n",
    "    return np.random.randint(1,1000,m*n).reshape(m,n)\n",
    "# randNPArray()"
   ]
  },
  {
   "cell_type": "code",
   "execution_count": 60,
   "id": "922b02a9-ab33-4a3f-adf3-15901709f7ab",
   "metadata": {},
   "outputs": [],
   "source": [
    "import math as mt\n",
    "def calStat(array):\n",
    "    if type(array)==None:\n",
    "        return \"The input array is of type None. Please enter a valid input.\" \n",
    "    \n",
    "    print(\"input array is\")\n",
    "    print(array)\n",
    "    \n",
    "    if type(array) != np.ndarray:\n",
    "        return \"The input array is not a numpy array\"\n",
    "    if array.dtype != np.int_:\n",
    "        return \"The input array is not a numerical numpy array\"\n",
    "    \n",
    "    size=array.shape\n",
    "    if len(size)!=2:\n",
    "        m = size[0]\n",
    "        mean = np.around(np.mean(array),2)\n",
    "        median = np.around(np.median(array),2)\n",
    "        sdev = 0\n",
    "        for i in range(m):\n",
    "            sdev = mt.sqrt(array[i]-mean if array[i]>mean else mean-array[i])\n",
    "        sdev = np.around(sdev/m,2)\n",
    "        resultant = np.append(array,mean)\n",
    "        resultant = np.append(resultant,median)\n",
    "        resultant = np.append(resultant,sdev)\n",
    "        return resultant\n",
    "    m=size[0]\n",
    "    n=size[1]\n",
    "    mean = np.empty(m)\n",
    "    median = np.empty(m)\n",
    "    sd = np.empty(m)\n",
    "    # resultant = array[0]\n",
    "    # resultant.append(array[0])\n",
    "    # print(array[0,0])\n",
    "    # resultant.append(array[1:])\n",
    "    # print(resultant)\n",
    "    for i in range(m):\n",
    "        # np.append(mean,np.mean(array[i]))\n",
    "        mean[i] = np.around(np.mean(array[i]),2)\n",
    "        median[i] = np.around(np.median(array[i]),2)\n",
    "        sdev = 0\n",
    "        for j in range(n):\n",
    "            s = array[i,j]-mean[i] if array[i,j]>mean[i] else mean[i]-array[i][j]\n",
    "            sdev += mt.sqrt(s)\n",
    "        sd[i] = np.around(sdev/n,2)\n",
    "    # print(mean)\n",
    "    # print(median)\n",
    "    # print(sd)\n",
    "    resultant = np.column_stack((array,mean))\n",
    "    resultant = np.column_stack((resultant,median))\n",
    "    resultant = np.column_stack((resultant,sd))\n",
    "    return resultant\n",
    "\n",
    "    "
   ]
  },
  {
   "cell_type": "markdown",
   "id": "372b20af-a52c-453b-8e2a-2e316c95d84b",
   "metadata": {},
   "source": [
    "### In the code given above, the Python function takes in a two-dimensional numerical numPy array and computes and produces a new two-dimensional numPy array including the mean, median, and standard deviation of each row. Each computed aggregate value is then arranged in the same row as the values utilized in the calculation by placing the three computation results into three new columns.\n"
   ]
  },
  {
   "cell_type": "markdown",
   "id": "cb9bb4f0-5882-4cd6-b8a7-d37ab771a1e3",
   "metadata": {},
   "source": [
    "### Test 1: Happy flow\n",
    "**This Test case takes a randomly generated 2d array of size array[4-8][4-8] and return a array with calculated mean, median and standard deviation for the data**\n",
    "\n",
    "### Test 2: When the input array is 1-D numpy array\"\n",
    "**This input acts like a dataframe with only one row, where we can simply calculate the mean, median and SD. This will return a single 1D numpy array**\n",
    "\n",
    "### Test 3: When the input array is not a numerical numpy array\"\n",
    "**This is an invalid input as the values in the array are not numerical and no calculations can be performed**\n",
    "\n",
    "### Test 4: When the input array is not a numpy array\"\n",
    "**This is an invalid input as the values in the array are not a NumPy array and no calculations will be performed**"
   ]
  },
  {
   "cell_type": "code",
   "execution_count": 63,
   "id": "e8e9c09e-278d-4224-9f30-6cdb0a6babf4",
   "metadata": {},
   "outputs": [
    {
     "name": "stdout",
     "output_type": "stream",
     "text": [
      "Test#1 : Happy Flow\n",
      "input array is\n",
      "[[721 561 780 164]\n",
      " [994 996 639 429]\n",
      " [491 677 371 683]\n",
      " [790 634 768 151]\n",
      " [580 438 945 810]\n",
      " [ 22 315  32 419]]\n",
      "[[721.   561.   780.   164.   556.5  641.    12.43]\n",
      " [994.   996.   639.   429.   764.5  816.5   14.97]\n",
      " [491.   677.   371.   683.   555.5  584.    10.98]\n",
      " [790.   634.   768.   151.   585.75 701.    13.9 ]\n",
      " [580.   438.   945.   810.   693.25 695.    13.32]\n",
      " [ 22.   315.    32.   419.   197.   173.5   12.96]]\n",
      "\n",
      "Test#2 : When the input array is 1-D numpy array\n",
      "input array is\n",
      "[1 2 3 4]\n",
      "[1.   2.   3.   4.   2.5  2.5  0.31]\n",
      "\n",
      "Test#3 : When the input array is not a numerical numpy array\n",
      "input array is\n",
      "[['1' '2' '3']\n",
      " ['4' '5' '6']]\n",
      "The input array is not a numerical numpy array\n",
      "\n",
      "Test#4 : When the input array is not a numpy array\n",
      "input array is\n",
      "[1, 2, 3, 4, 5, 6]\n",
      "The input array is not a numpy array\n"
     ]
    }
   ],
   "source": [
    "print(\"Test#1 : Happy Flow\")\n",
    "print(calStat(randNPArray()))\n",
    "\n",
    "print(\"\\nTest#2 : When the input array is 1-D numpy array\")\n",
    "print(calStat(np.arange(1,5)))\n",
    "\n",
    "print(\"\\nTest#3 : When the input array is not a numerical numpy array\")\n",
    "print(calStat(np.array([['1','2','3'],['4','5','6']])))\n",
    "\n",
    "print(\"\\nTest#4 : When the input array is not a numpy array\")\n",
    "print(calStat([1,2,3,4,5,6]))\n"
   ]
  }
 ],
 "metadata": {
  "kaggle": {
   "accelerator": "none",
   "dataSources": [],
   "dockerImageVersionId": 30761,
   "isGpuEnabled": false,
   "isInternetEnabled": false,
   "language": "python",
   "sourceType": "notebook"
  },
  "kernelspec": {
   "display_name": "Python 3 (ipykernel)",
   "language": "python",
   "name": "python3"
  },
  "language_info": {
   "codemirror_mode": {
    "name": "ipython",
    "version": 3
   },
   "file_extension": ".py",
   "mimetype": "text/x-python",
   "name": "python",
   "nbconvert_exporter": "python",
   "pygments_lexer": "ipython3",
   "version": "3.12.3"
  }
 },
 "nbformat": 4,
 "nbformat_minor": 5
}
