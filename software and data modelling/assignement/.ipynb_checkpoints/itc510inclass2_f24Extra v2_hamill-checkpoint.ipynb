{
  "cells": [
    {
      "cell_type": "markdown",
      "id": "62d99609",
      "metadata": {
        "id": "62d99609"
      },
      "source": [
        "## In-Class Group Assignment 2 - NumPy (10 points)\n",
        "### Due: 9/11 (12:50pm)\n",
        "\n",
        "Find your two partners as instructed. Complete the following problem and submit as a group where only one student need turn in the assignment but all students in a group should at least submit a comment indicating who was in their group and also highlighting who is responsible for turning in the assignment. All members of a group should be able to explain any code that has been turned in by the group.\n",
        "\n",
        "This assignment is not just about getting the code working. You are also expected to **add a Markdown cell after your code that explains your code** and **any results obtained**. This is particularly important If the code does not work or is incomplete, provide detailed explaination in the Markdown cell as well.\n",
        "\n",
        "Do **not** use exception handling (try/except) statements. Do **not** use AI (chatGPT, Copilot, etc.) to write your functions.\n",
        "\n",
        "### Write a function in the code cell below that takes as input a 1dNumPy array and returns a 1dNumPy Boolean array containing True values at each location that correspond to the index of the first occurrence of each element in the input array and False values otherwise.  For example:\n",
        "\n",
        "Input:  [9  9  4  8  8  1  5  3  6  3  3  3  2  1  9  5  1  10  7  3]\n",
        "\n",
        "Output: [True False True True False True True True True False False False True False False False False True True False]\n",
        "\n",
        "\n",
        "Input: ['Bob' 'Joe' 'Bob' 'Joe' 'Will' 'Sue' 'Joe' 'Jane']\n",
        "\n",
        "Output:[True True False False True True False True]\n",
        "\n",
        "\n",
        "### Make sure to error check your function input and to include your test case code that calls the function multiple times with different values for you function input."
      ]
    },
    {
      "cell_type": "markdown",
      "id": "2d0707c4-898a-49da-93ae-32492ad48a33",
      "metadata": {
        "id": "2d0707c4-898a-49da-93ae-32492ad48a33"
      },
      "source": [
        "Group Member:\n",
        "Nathan Hamill(Hamil2ns)\n",
        "Kunal Maheshwari(Mahes1k)\n",
        "Hairu Fan (Fan2h)\n",
        "\n",
        "\n"
      ]
    },
    {
      "cell_type": "code",
      "execution_count": null,
      "id": "12782970",
      "metadata": {
        "id": "12782970",
        "outputId": "3e523219-c917-46ed-aa12-bbcb55e0c148"
      },
      "outputs": [
        {
          "name": "stdout",
          "output_type": "stream",
          "text": [
            "[ True False  True False  True]\n",
            "[ True]\n",
            "my_array is not a numpy array\n",
            "[ True  True False  True]\n"
          ]
        }
      ],
      "source": [
        "import numpy as np\n",
        "\n",
        "def first_occurance_checker(numpy_array):\n",
        "    if isinstance(numpy_array, np.ndarray):\n",
        "        bool_array = []\n",
        "\n",
        "        first_occurance = []\n",
        "\n",
        "        for i in numpy_array:\n",
        "            if i in first_occurance:\n",
        "                #append false to bool array\n",
        "                bool_array.append(False)\n",
        "\n",
        "            else:\n",
        "                #append true to bool array\n",
        "                bool_array.append(True)\n",
        "                #add to first occurance\n",
        "                first_occurance.append(i)\n",
        "\n",
        "        return np.array(bool_array)\n",
        "    else:\n",
        "        return \"my_array is not a numpy array\"\n",
        "\n",
        "\n",
        "vector = np.array([1, 1, 3, 3, 6])\n",
        "vector1 = np.array([1])\n",
        "vector2 = [1,2,3]\n",
        "vector3 = np.array([\"a\", \"b\", \"a\", \"c\"])\n",
        "\n",
        "print(first_occurance_checker(vector))\n",
        "print(first_occurance_checker(vector1))\n",
        "print(first_occurance_checker(vector2))\n",
        "print(first_occurance_checker(vector3))\n"
      ]
    },
    {
      "cell_type": "markdown",
      "id": "048f7d72-a7e1-4bfe-838b-f38b13a94789",
      "metadata": {
        "id": "048f7d72-a7e1-4bfe-838b-f38b13a94789"
      },
      "source": [
        "Test cases:\n",
        "\n",
        "vector = np.array([1, 1, 3, 3, 6])\n",
        "[ True False  True False  True]\n",
        "\n",
        "vector1 = np.array([1])\n",
        "[ True]\n",
        "\n",
        "vector2 = [1,2,3]\n",
        "my_array is not a numpy array --> This is an invalid input.\n",
        "\n",
        "vector3 = np.array([\"a\", \"b\", \"a\", \"c\"])\n",
        "[ True  True False  True]\n"
      ]
    },
    {
      "cell_type": "markdown",
      "id": "798c4f14",
      "metadata": {
        "id": "798c4f14"
      },
      "source": [
        "## Extra credit (5 pts.) - Due (9/13 - noon)\n",
        "\n",
        "Write another function that takes two NumPy arrays of identical length as input: a 1dNumPy numeric array (use a numeric array that was used as one of your test inputs to the in-class assignment) and a 1dNumpy Boolean array (use the same array that was generated as the output from the function you wrote for the in-class assignment).   The function should then create and return a Python dictionary where each key in the dictionary corresponds to a value in the numeric NumPy array that has a True value in the exact same index as the value in the numeric NumPy array.   Additionally, each key should have associated with it a value which is a NumPy array containing all the integer indicies in which the key value appears in the original array.\n",
        "\n",
        "Do **not** use exception handling (try/except) statements. Do **not** use AI (chatGPT, Copilot, etc.) to write your functions.\n",
        "\n",
        "### Make sure to error check your function input and to include your test case code that calls the function multiple times with different values for you function input."
      ]
    },
    {
      "cell_type": "code",
      "execution_count": 25,
      "id": "4c7ec4a2",
      "metadata": {},
      "outputs": [
        {
          "name": "stdout",
          "output_type": "stream",
          "text": [
            "Test 1:  {np.int64(2): array([1]), np.int64(4): array([4])}\n",
            "<class 'dict'>\n",
            "Test 2:  Error: First input must be an integer NumPy array.\n",
            "Test 3:  Error: Both arrays must have the same length.\n",
            "Test 4:  Error: Second input must be a Boolean NumPy array.\n",
            "Test 5:  Error: Second input must be a Boolean NumPy array.\n"
          ]
        }
      ],
      "source": [
        "import numpy as np\n",
        "\n",
        "def create_dict(num_array, bool_array):\n",
        "    # Inputs need be NumPy arrays and have a same length\n",
        "    if not isinstance(num_array, np.ndarray) or not isinstance(bool_array, np.ndarray):\n",
        "        return \"Error: Both inputs must be NumPy arrays.\"\n",
        "\n",
        "    if num_array.shape != bool_array.shape:\n",
        "        return \"Error: Both arrays must have the same length.\"\n",
        "\n",
        "    # Numpy Boolean array\n",
        "    if bool_array.dtype != np.bool_:\n",
        "        return \"Error: Second input must be a Boolean NumPy array.\"\n",
        "    \n",
        "    #Number check\n",
        "    if num_array.dtype != np.int_:\n",
        "        return \"Error: First input must be an integer NumPy array.\"\n",
        "\n",
        "    # Create a dictionary\n",
        "    output_dict = {}\n",
        "\n",
        "    # Iterate through the boolean array and num_array\n",
        "    for i in num_array:\n",
        "        if bool_array[i]:  # If the boolean array has True at this index\n",
        "            num = i\n",
        "            if num not in output_dict:\n",
        "                # Collect the index where num appears in num_array and store as a NumPy array\n",
        "                output_dict[num] = np.array([index for index in range(len(num_array))\n",
        "                                                  if num_array[index] == num])\n",
        "\n",
        "    return output_dict\n",
        "\n",
        "# Test 1\n",
        "num_array = np.array([1, 2, 1, 3, 4])\n",
        "bool_array = np.array([True, False, True, False, True])\n",
        "print(\"Test 1: \", create_dict(num_array, bool_array))\n",
        "print(type(create_dict(num_array, bool_array))) # The function should then create and return a Python dictionary.\n",
        "\n",
        "# Test 2\n",
        "num_array2 = np.array([\"a\", \"b\", \"b\", \"c\"])\n",
        "bool_array2 = np.array([True, True, False, True])\n",
        "print(\"Test 2: \",create_dict(num_array2, bool_array2))\n",
        "\n",
        "# Test 3:Two array have different arrays lengths\n",
        "num_array3 = np.array([1, 2, 3])\n",
        "bool_array3 = np.array([True, False])\n",
        "print(\"Test 3: \",create_dict(num_array3, bool_array3))\n",
        "\n",
        "# Test 4: Second input not boolean array\n",
        "num_array4 = np.array([1, 2, 1, 3, 4])\n",
        "bool_array4 = np.array([1, 2, 1, 3, 4])  # num\n",
        "print(\"Test 4: \",create_dict(num_array4, bool_array4))\n",
        "\n",
        "num_array5 = np.array([1, 2, 1, 3, 4])\n",
        "bool_array5 = np.array([\"1\",\"2\", \"1\", \"3\", \"4\"])  # str\n",
        "print(\"Test 5: \",create_dict(num_array5, bool_array5))"
      ]
    },
    {
      "cell_type": "markdown",
      "id": "DJe0vpdQR3OL",
      "metadata": {
        "id": "DJe0vpdQR3OL"
      },
      "source": [
        "Group Member:\n",
        "\n",
        "Nathan Hamill(Hamil2ns)\n",
        "Kunal Maheshwari(Mahes1k)\n",
        "Hairu Fan (Fan2h)\n",
        "\n",
        "The function create_dict(num_array, bool_array) creates a dictionary where:\n",
        "\n",
        "Keys: Unique elements from num_array corresponding to True values in bool_array.\n",
        "Values: NumPy arrays containing indices where those unique elements appear in num_array.\n",
        "\n",
        "Test Valid & Invalid Inputs :\n",
        "\n",
        "T1: Correctly identifies first occurrences and returns dictionary.\n",
        "\n",
        "T2: Works with string input.\n",
        "\n",
        "T3: Arrays of different lengths.\n",
        "\n",
        "T4: bool_array is not boolean.\n",
        "\n",
        "T5: bool_array is not a boolean , it's a string array.\n"
      ]
    }
  ],
  "metadata": {
    "colab": {
      "provenance": []
    },
    "kernelspec": {
      "display_name": "Python 3",
      "language": "python",
      "name": "python3"
    },
    "language_info": {
      "codemirror_mode": {
        "name": "ipython",
        "version": 3
      },
      "file_extension": ".py",
      "mimetype": "text/x-python",
      "name": "python",
      "nbconvert_exporter": "python",
      "pygments_lexer": "ipython3",
      "version": "3.12.0"
    }
  },
  "nbformat": 4,
  "nbformat_minor": 5
}
