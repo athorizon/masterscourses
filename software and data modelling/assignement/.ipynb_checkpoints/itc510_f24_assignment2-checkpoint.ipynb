{
 "cells": [
  {
   "cell_type": "markdown",
   "id": "446fd996",
   "metadata": {},
   "source": [
    "# Assignment 2 - NumPy (20 points) \n",
    "## Due: 9/15/24 (10pm)\n",
    "\n",
    "This assignment is desiged to give you some hands-on practice with NumPy.\n",
    "\n",
    "For all problems, when asked to write a function you must include code **within the function** to check for valid input parameter values as well as code that calls the function for multipe test cases with valid **and** invalid actual parameter values.  Do **not** use exception handling (**try/except**) statements.  Do **not** use AI (chatGPT, Copilot, etc.) to write your functions.\n",
    "\n",
    "**Make sure to add a Markdown cell after your code cell for each problem that explains your test cases and results**.\n",
    "\n",
    "This assignment can be done individually or as a group of up to **three students**. Only one student should turn in the assignment but all students in a group should at least submit a comment indicating who was in their group and specifying who is responsible for turning in the assignment. All members of a group should be able to explain any code that has been turned in by the group."
   ]
  },
  {
   "cell_type": "markdown",
   "id": "df75e2a7",
   "metadata": {},
   "source": [
    "### 1. In the code cell below, write a Python function that generates and returns a one-dimensional numPy array of odd integers starting between parameter provided lower and upper bound limits.  The function should only accept positive integer as input.   If the user calls the function with the lowerbound value first, it should create the array in ascending order.   Othewise, it should create the array in descending order.\n",
    "\n",
    "### In Markdown cells, describe your code and explain your test case code results for multiple calls to the function with different values (both valid and invalid) for you function input.\n"
   ]
  },
  {
   "cell_type": "code",
   "execution_count": 2,
   "id": "1873beff-00a9-4238-855e-d996bcbe3636",
   "metadata": {},
   "outputs": [],
   "source": [
    "import numpy as np"
   ]
  },
  {
   "cell_type": "code",
   "execution_count": 3,
   "id": "d557b39e-c26e-45f4-8d9b-5bd6aee5938b",
   "metadata": {},
   "outputs": [],
   "source": [
    "#utility method to check an input is positive integer or not, used by multiple methods\n",
    "def checkpositiveIntegerInput(input):  \n",
    "    if(input is None):\n",
    "        return False\n",
    "    if(type(input) ==str):\n",
    "        if(not input.isnumeric()):\n",
    "            return False\n",
    "        else:\n",
    "            input = int(input)\n",
    "    if(type(input) != int):\n",
    "        return False\n",
    "    if(input<0):\n",
    "        return False\n",
    "    return True"
   ]
  },
  {
   "cell_type": "code",
   "execution_count": 12,
   "id": "2e1e27e1",
   "metadata": {},
   "outputs": [
    {
     "name": "stdout",
     "output_type": "stream",
     "text": [
      "[3 5 7 9]\n"
     ]
    }
   ],
   "source": [
    "\n",
    "def oneNumpyArray(lbound, hbound):\n",
    "    # print(f\" lbound : {checkInput(lbound)}\")\n",
    "    # print(f\" hbound : {checkInput(hbound)}\")\n",
    "    if(not checkpositiveIntegerInput(lbound) or not checkpositiveIntegerInput(hbound)):\n",
    "        return f\" Please enter a valid input for the upper or lower bound value,only positive integer values are expected. Current values are {lbound} and {hbound}\"\n",
    "    if(type(lbound) == str):\n",
    "        lbound=int(lbound)\n",
    "    if(type(hbound) == str):\n",
    "        hbound=int(hbound)\n",
    "    if(lbound == hbound):\n",
    "        return f\"The bound limits are equal, this will create an empty array. Please Enter valid integer inputs\"\n",
    "    if(lbound<hbound):\n",
    "        return np.arange(lbound+1 if lbound%2==0 else lbound, hbound,2)\n",
    "    else:\n",
    "        # print(hbound+1 if hbound%2==0 else hbound)\n",
    "        return np.arange(hbound+1 if hbound%2==0 else hbound, lbound,2)[::-1]\n",
    "\n",
    "print(oneNumpyArray(2,10))"
   ]
  },
  {
   "cell_type": "markdown",
   "id": "6899de4e",
   "metadata": {},
   "source": [
    "### 2. In the code cell below, write a Python function that generates and returns an MxN numPy array with random integer values ranging from 1 to 1000.  The function should be provided as input (parameters) with values for M that range between 1 and 4 and N that are between 1 and 6.\n",
    "\n",
    "### In Markdown cells, describe your code and explain your test case code results for multiple calls to the function with different values (both valid and invalid) for you function input.\n"
   ]
  },
  {
   "cell_type": "code",
   "execution_count": 18,
   "id": "2c0379ba",
   "metadata": {},
   "outputs": [
    {
     "name": "stdout",
     "output_type": "stream",
     "text": [
      "[[278 328]\n",
      " [954 480]\n",
      " [146 142]]\n"
     ]
    }
   ],
   "source": [
    "def twoNumpyArray(m,n):\n",
    "    if(not checkpositiveIntegerInput(m) or not checkpositiveIntegerInput(n)):\n",
    "        return f\"Please enter a valid value for the dimension of the array, only positive integer in range M[1-4] and N[1-6] are expected. Currently m: {m} and n : {n}\"\n",
    "    if(type(m) == str):\n",
    "        m=int(m)\n",
    "    if(type(n) == str):\n",
    "        n=int(n)\n",
    "    if(type(m)!=int and type(n)!=int):\n",
    "        return f\"Please enter a valid value for the dimension of the array, only positive integer in range M[1-4] and N[1-6] are expected. Currently m: {m} and n : {n}\"\n",
    "    if(m<1 or m>4):\n",
    "        return f\"Please enter a valid value for the M dimension of the array, only positive integer in range M[1-4] are expected. Currently m: {m} and n : {n}\"\n",
    "    if(n<1 or n>6):\n",
    "        return f\"Please enter a valid value for the N dimension of the array, only positive integer in range N[1-6] are expected. Currently m: {m} and n : {n}\"\n",
    "    return np.random.randint(1,1000,m*n).reshape(m,n)\n",
    "\n",
    "print(twoNumpyArray(3,2))"
   ]
  },
  {
   "cell_type": "markdown",
   "id": "3b9fc11f",
   "metadata": {},
   "source": [
    "### 3. In the code cell below, write a Python function that takes as input (parameters) a Python dictionary and a second parameter that can be anything.   The function should then evaluate the second parameter to determine the variable's type.   It should then create a return two numPy arrays containing the keys and values from the parameter provided Python dictionary containing only the values from the orignal Python dictionary that are of the same type as the second input parameter.  The two arrays should be parallel arrays with one array contains the keys from the dictionary and the second array contains the corresponding values associated with those keys ande each key's index should have it's corresponding value at the same index in the second array.   This function need only handle the primitive data types integer, float, string, and boolean.\n",
    "\n",
    "### In Markdown cells, describe your code and explain your test case code results for multiple calls to the function with different values (both valid and invalid) for you function input."
   ]
  },
  {
   "cell_type": "code",
   "execution_count": 105,
   "id": "7e888d25-fd2e-4912-b53b-7c21f338ddfe",
   "metadata": {},
   "outputs": [
    {
     "name": "stdout",
     "output_type": "stream",
     "text": [
      "dict_values([1, 1.2, 'abc', 13, 'asf', '1.23', True, 'jndoj', 5.787, 1231, False, None, -123, 42.13, True])\n",
      "key : [7, 11, 15]\n",
      "values : [True, False, True]\n"
     ]
    }
   ],
   "source": [
    "# dict={1:1, 2:1.2, 3:'abc', 4:13, 5:'asf', 6:'1.23', 7:['abc','12',123], 8:(1,2,3,4,), 9:{1:1,2:2,3:3},\n",
    "#       10:True, 11:[1,2,3,4], 12:'jndoj', 13:{1:1,2:2,3:3}, 14:5.787, 15:1231, 16:('a','b','c'), 17:['a','b','c'], 18:False, 19:None, 20:-123, 21:42.13, 22:True,\n",
    "#      23: 'sdjvnkndfv'}\n",
    "\n",
    "d={1:1, 2:1.2, 3:'abc', 4:13, 5:'asf', 6:'1.23',\n",
    "      7:True, 8:'jndoj', 9:5.787, 10:1231, 11:False, 12:None, 13:-123, 14:42.13, 15:True}\n",
    "print(d.values())\n",
    "keys = np.array(d.keys())\n",
    "values = np.array(d.values())\n",
    "\n",
    "def dictValues(dic, param):\n",
    "    keys=\n",
    "    values=[]\n",
    "    for val in dic.keys():\n",
    "        # print(f\"type of value : {dic.get(val)} at index {val} is {type(dic.get(val))}\")\n",
    "        if(type(dic.get(val)) == type(param)):\n",
    "            keys.append(val)\n",
    "            values.append(dic.get(val))\n",
    "    print(f\"key : {keys}\")\n",
    "    print(f\"values : {values}\")\n",
    "\n",
    "dictValues(d,False)\n"
   ]
  },
  {
   "cell_type": "markdown",
   "id": "5f0c6b3d",
   "metadata": {},
   "source": [
    "### 4.  In the code cell below, write a Python function that takes as input a two-dimensional _numerical_ numPy array and then computes and returns a new two-dimension numPy array containing the mean, median, standard deviation of each _row_ where he result of he three computations is placed into three additional columns so that each aggregate value computed is placed in the same row as the values used in the calculation.   In other words, the array you return should have the same number of rows as he original but with three additional columns.\n",
    "\n",
    "### In Markdown cells, describe your code and explain your test case code results for multiple calls to the function with different values (both valid and invalid) for you function input."
   ]
  },
  {
   "cell_type": "code",
   "execution_count": 148,
   "id": "1855ebc6",
   "metadata": {},
   "outputs": [
    {
     "name": "stdout",
     "output_type": "stream",
     "text": [
      "m : 4 | n : 6\n"
     ]
    },
    {
     "data": {
      "text/plain": [
       "array([[ 34, 829, 829, 684, 880, 493],\n",
       "       [822, 698, 689, 303, 816, 217],\n",
       "       [133, 980, 519, 582, 741, 253],\n",
       "       [693, 590,  77, 996, 263, 994]])"
      ]
     },
     "execution_count": 148,
     "metadata": {},
     "output_type": "execute_result"
    }
   ],
   "source": [
    "import random as rand\n",
    "def randNPArray():\n",
    "    m=rand.randrange(4,10)\n",
    "    n=rand.randrange(4,10)\n",
    "    print(f\"m : {m} | n : {n}\")\n",
    "    return np.random.randint(1,1000,m*n).reshape(m,n)\n",
    "randNPArray()"
   ]
  },
  {
   "cell_type": "code",
   "execution_count": 157,
   "id": "922b02a9-ab33-4a3f-adf3-15901709f7ab",
   "metadata": {},
   "outputs": [],
   "source": [
    "import math as mt\n",
    "def calStat(array):\n",
    "    # print(\"array\")\n",
    "    # print(array)\n",
    "    size=array.shape\n",
    "    m=size[0]\n",
    "    n=size[1]\n",
    "    mean = np.empty(m)\n",
    "    median = np.empty(m)\n",
    "    sd = np.empty(m)\n",
    "    # resultant = array[0]\n",
    "    # resultant.append(array[0])\n",
    "    # print(array[0,0])\n",
    "    # resultant.append(array[1:])\n",
    "    # print(resultant)\n",
    "    for i in range(m):\n",
    "        # np.append(mean,np.mean(array[i]))\n",
    "        mean[i] = np.around(np.mean(array[i]),2)\n",
    "        median[i] = np.around(np.median(array[i]),2)\n",
    "        sdev = 0\n",
    "        for j in range(n):\n",
    "            sdev += mt.sqrt(array[i,j])\n",
    "        sd[i] = np.around(sdev/n,2)\n",
    "    # print(mean)\n",
    "    # print(median)\n",
    "    # print(sd)\n",
    "    resultant = np.column_stack((array,mean))\n",
    "    resultant = np.column_stack((resultant,median))\n",
    "    resultant = np.column_stack((resultant,sd))\n",
    "    print(resultant)\n",
    "        "
   ]
  },
  {
   "cell_type": "code",
   "execution_count": 158,
   "id": "e8e9c09e-278d-4224-9f30-6cdb0a6babf4",
   "metadata": {},
   "outputs": [
    {
     "name": "stdout",
     "output_type": "stream",
     "text": [
      "m : 4 | n : 6\n",
      "[[817.   886.    10.   776.   659.   861.   668.17 796.5   24.06]\n",
      " [692.   236.   415.   813.   338.   487.   496.83 451.    21.83]\n",
      " [968.   162.   739.   691.   440.   268.   544.67 565.5   22.44]\n",
      " [493.   194.   839.   397.   421.   731.   512.5  457.    22.1 ]]\n"
     ]
    }
   ],
   "source": [
    "calStat(randNPArray())"
   ]
  }
 ],
 "metadata": {
  "kaggle": {
   "accelerator": "none",
   "dataSources": [],
   "dockerImageVersionId": 30761,
   "isGpuEnabled": false,
   "isInternetEnabled": false,
   "language": "python",
   "sourceType": "notebook"
  },
  "kernelspec": {
   "display_name": "Python 3 (ipykernel)",
   "language": "python",
   "name": "python3"
  },
  "language_info": {
   "codemirror_mode": {
    "name": "ipython",
    "version": 3
   },
   "file_extension": ".py",
   "mimetype": "text/x-python",
   "name": "python",
   "nbconvert_exporter": "python",
   "pygments_lexer": "ipython3",
   "version": "3.12.3"
  }
 },
 "nbformat": 4,
 "nbformat_minor": 5
}
