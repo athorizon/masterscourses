{
 "cells": [
  {
   "cell_type": "markdown",
   "id": "878f44ef",
   "metadata": {},
   "source": [
    "#  NumPy\n",
    "\n",
    "o Numpy is an open-source library for working efficiently with arrays. \n",
    "\n",
    "o Important data science library in Python as many other important libraries depend on it.\n",
    "\n",
    "o Some of Numpy's advantages:\n",
    "\n",
    "    - Mathematical operations on NumPy’s ndarray objects are up to 50x faster than iterating over native Python lists \n",
    "    \n",
    "    - Efficiency gains are due to NumPy storing array elements in an ordered single location within memory and requiring\n",
    "      that all elements be the same type.\n",
    "    \n",
    "    - Provides indexing syntax for easily accessing portions of data within an array.\n",
    "    \n",
    "    - Contains built-in functions that improve quality of life when working with arrays and math, such as functions for\n",
    "      linear algebra, array transformations, and matrix math.\n",
    "    \n",
    "    - It requires fewer lines of code for most mathematical operations than native Python lists.\n",
    "    \n",
    "    - An attractive (and free) alternative to MATLAB\n",
    "    \n",
    "### NumPy ndarrays\n",
    "\n",
    "o The NumPy array an n-dimensional data structure and is the central object of the NumPy package.\n",
    "\n",
    "o Table 4.1 Array creation functions\n",
    "  \n",
    "### Data Types for ndarrayss\n",
    "  \n",
    "o The data type or dtype is a special object containing the metadata the ndarray needs to interpret a chunk of memory as a\n",
    "  particular type of data.\n",
    "   \n",
    "o Table 4.2 NumPy Data Types\n"
   ]
  },
  {
   "cell_type": "code",
   "execution_count": 1,
   "id": "58f10d5a",
   "metadata": {},
   "outputs": [
    {
     "name": "stdout",
     "output_type": "stream",
     "text": [
      "[ 1.  -1.   3.   0.   6.5]\n",
      "float64\n"
     ]
    }
   ],
   "source": [
    "import numpy as np\n",
    "vector = np.array([1, -1, 3, 0 , 6.5])\n",
    "print(vector)\n",
    "print(vector.dtype)"
   ]
  },
  {
   "cell_type": "code",
   "execution_count": 2,
   "id": "7c4fc5d6",
   "metadata": {},
   "outputs": [
    {
     "name": "stdout",
     "output_type": "stream",
     "text": [
      "[[ 1.5 -0.1  3. ]\n",
      " [ 0.  -3.   6.5]\n",
      " [ 1.5 -0.1  3. ]\n",
      " [ 0.  -3.   6.5]]\n"
     ]
    }
   ],
   "source": [
    "matrix = np.array([[1.5, -0.1, 3], [0, -3, 6.5],[1.5, -0.1, 3], [0, -3, 6.5]])\n",
    "print(matrix)"
   ]
  },
  {
   "cell_type": "code",
   "execution_count": 3,
   "id": "cb29b5f3",
   "metadata": {},
   "outputs": [
    {
     "name": "stdout",
     "output_type": "stream",
     "text": [
      "[[ 1.5 -0.1  3. ]\n",
      " [ 0.  -3.   6.5]\n",
      " [ 1.5 -0.1  3. ]\n",
      " [ 0.  -3.   6.5]]\n"
     ]
    }
   ],
   "source": [
    "print(matrix)"
   ]
  },
  {
   "cell_type": "code",
   "execution_count": 4,
   "id": "90a856a5",
   "metadata": {},
   "outputs": [
    {
     "data": {
      "text/plain": [
       "array([[ 1.5, -0.1,  3. ],\n",
       "       [ 0. , -3. ,  6.5]])"
      ]
     },
     "execution_count": 4,
     "metadata": {},
     "output_type": "execute_result"
    }
   ],
   "source": [
    "data = [[1.5, -0.1, 3], [0, -3, 6.5]]\n",
    "arr  = np.array(data)\n",
    "arr"
   ]
  },
  {
   "cell_type": "code",
   "execution_count": 5,
   "id": "ddb83a8d",
   "metadata": {},
   "outputs": [
    {
     "data": {
      "text/plain": [
       "2"
      ]
     },
     "execution_count": 5,
     "metadata": {},
     "output_type": "execute_result"
    }
   ],
   "source": [
    "arr.ndim"
   ]
  },
  {
   "cell_type": "code",
   "execution_count": 6,
   "id": "df2e2050",
   "metadata": {},
   "outputs": [
    {
     "data": {
      "text/plain": [
       "(2, 3)"
      ]
     },
     "execution_count": 6,
     "metadata": {},
     "output_type": "execute_result"
    }
   ],
   "source": [
    "arr.shape"
   ]
  },
  {
   "cell_type": "code",
   "execution_count": 7,
   "id": "f4487aa5",
   "metadata": {},
   "outputs": [
    {
     "data": {
      "text/plain": [
       "dtype('float64')"
      ]
     },
     "execution_count": 7,
     "metadata": {},
     "output_type": "execute_result"
    }
   ],
   "source": [
    "arr.dtype"
   ]
  },
  {
   "cell_type": "markdown",
   "id": "ef1079e9",
   "metadata": {},
   "source": [
    "### Arithmetic with NumPy Arrays\n",
    "\n",
    "o NumPy utilizes vectorization to allow for the use of arithmetic operators to be applied to equal size arrays eliminating\n",
    "  the need for iteration.\n",
    "\n",
    "o The data type or dtype is a special object containing the metadata the ndarray needs to interpret a chunk of memory as a\n",
    "  particular type of data.\n",
    "  \n",
    "o Table 4.2 NumPy Data Types\n"
   ]
  },
  {
   "cell_type": "code",
   "execution_count": 8,
   "id": "129f253e",
   "metadata": {},
   "outputs": [
    {
     "name": "stdout",
     "output_type": "stream",
     "text": [
      "[[ 1.5 -0.1  3. ]\n",
      " [ 0.  -3.   6.5]]\n",
      "[[ 1.5 -1.   3. ]\n",
      " [ 5.  -3.   6.5]]\n",
      "[[ 2.25  0.1   9.  ]\n",
      " [ 0.    9.   42.25]]\n",
      "[[ 0.  -0.9  0. ]\n",
      " [ 5.   0.   0. ]]\n",
      "[[ 0.75 -0.05  1.5 ]\n",
      " [ 0.   -1.5   3.25]]\n",
      "[[ 2.25  1.    9.  ]\n",
      " [25.    9.   42.25]]\n",
      "[[ 1.5 -0.1  3. ]\n",
      " [ 0.  -3.   6.5]]\n",
      "[[ 1.5 -1.   3. ]\n",
      " [ 5.  -3.   6.5]]\n"
     ]
    }
   ],
   "source": [
    "import numpy as np\n",
    "arr1 = np.array([[1.5, -0.1, 3], [0, -3, 6.5]])\n",
    "arr2 = np.array([[1.5, -1, 3], [5, -3, 6.5]])\n",
    "print(arr1)\n",
    "print(arr2)\n",
    "print (arr1 * arr2)\n",
    "print (arr2 - arr1)\n",
    "print (arr1 / 2)\n",
    "print (arr2 ** 2)\n",
    "print(arr1)\n",
    "print(arr2)"
   ]
  },
  {
   "cell_type": "markdown",
   "id": "21201f47",
   "metadata": {},
   "source": [
    "### Indexing and Slicing\n",
    "\n",
    "o NumPy utilizes vectorization to allow for the use of arithmetic operators to be applied to equal size arrays eliminating the   need for iteration.\n",
    "\n",
    "o Basics of indexing notation\n",
    "\n",
    "    - Uses same notation as Python list and MATLAB syntax.\n",
    "    \n",
    "    - Commas are used to separate axes of an array.\n",
    "    \n",
    "    - Colons are used designate a slice of values within the range of the array. \n",
    "    \n",
    "    - Negative numbers in an index or slice mean \"from the end of the array.\" \n",
    "    \n",
    "    - Blanks before or after colons means from the beginning of the array if before the colon and to the end of the array if \n",
    "      after the colon.\n",
    "      \n",
    "o Boolean Indexing     \n",
    "\n",
    "o Fancy Indexing   "
   ]
  },
  {
   "cell_type": "code",
   "execution_count": 9,
   "id": "c39c86c2",
   "metadata": {},
   "outputs": [
    {
     "name": "stdout",
     "output_type": "stream",
     "text": [
      "[[1 2 3]\n",
      " [4 5 6]\n",
      " [7 8 9]]\n",
      "\n",
      "[[2]\n",
      " [5]\n",
      " [8]]\n",
      "\n",
      "['Bob' 'Joe' 'Will' 'Bob' 'Will' 'Joe' 'Joe']\n",
      "[ True False False  True False False False]\n",
      "\n",
      "[[-0.63483281 -0.69577979 -0.16284043 -1.00395148]\n",
      " [ 0.0283877   0.17108635  0.56980917 -0.63357038]\n",
      " [-0.06481597  0.98294116  0.45594017 -0.13632207]\n",
      " [ 1.75578719 -0.16661826  1.09201942 -1.80847713]\n",
      " [-1.13631067 -0.11342477 -1.36698807 -1.04830812]\n",
      " [ 1.66913607 -1.02009908 -0.83298425 -0.1990192 ]\n",
      " [-0.34309585 -0.0911242  -1.30702945 -0.92548985]]\n",
      "[[-0.63483281 -0.69577979 -0.16284043 -1.00395148]\n",
      " [ 1.75578719 -0.16661826  1.09201942 -1.80847713]]\n",
      "\n",
      "[[ 0.0283877   0.17108635  0.56980917 -0.63357038]\n",
      " [ 1.66913607 -1.02009908 -0.83298425 -0.1990192 ]\n",
      " [-0.34309585 -0.0911242  -1.30702945 -0.92548985]\n",
      " [-0.06481597  0.98294116  0.45594017 -0.13632207]\n",
      " [-1.13631067 -0.11342477 -1.36698807 -1.04830812]]\n"
     ]
    },
    {
     "data": {
      "text/plain": [
       "array([[ 0.0283877 ,  0.17108635,  0.56980917, -0.63357038],\n",
       "       [ 1.66913607, -1.02009908, -0.83298425, -0.1990192 ],\n",
       "       [-0.34309585, -0.0911242 , -1.30702945, -0.92548985],\n",
       "       [-0.06481597,  0.98294116,  0.45594017, -0.13632207],\n",
       "       [-1.13631067, -0.11342477, -1.36698807, -1.04830812]])"
      ]
     },
     "execution_count": 9,
     "metadata": {},
     "output_type": "execute_result"
    }
   ],
   "source": [
    "arr1d = np.array([ 0,  1,  2,  3,  4, 64, 64, 64,  8,  9])\n",
    "arr2d = np.array([[1, 2, 3], [4, 5, 6], [7, 8, 9]])\n",
    "# print(arr1d[8])\n",
    "# print(arr1d[1:6])\n",
    "# print(arr1d[:4])\n",
    "# print(arr1d[1:-1])\n",
    "print(arr2d)\n",
    "print()\n",
    "print(arr2d[0::1, 1:2])\n",
    "print()\n",
    "# print(arr2d[:2, 1:])\n",
    "# print(arr2d)\n",
    "\n",
    "# Boolean indexing\n",
    "names = np.array(['Bob', 'Joe', 'Will', 'Bob', 'Will', 'Joe', 'Joe'])\n",
    "data = np.random.randn(7, 4)\n",
    "print(names)\n",
    "print(names == 'Bob')\n",
    "print()\n",
    "print(data)\n",
    "print(data[names == 'Bob'])\n",
    "print()\n",
    "# Fancy indexing\n",
    "print(data[[1,5,6,2,4]])\n",
    "newdata = data[[1,5,6,2,4]]\n",
    "newdata"
   ]
  },
  {
   "cell_type": "markdown",
   "id": "0020ed22",
   "metadata": {},
   "source": [
    "### Transposing Arrays and Swapping Axes\n",
    "\n",
    "o Transposing is a special form of reshaping that similarly returns a view on the underlying data without copying anything. \n",
    "\n",
    "o Arrays have the transpose method and the special T attribute\n",
    "\n",
    "o When doing matrix computations such as computing the inner matrix product numpy.dot can be used\n",
    "\n",
    "o The @ infix operator is another way to do matrix multiplication\n",
    "\n",
    "o ndarray has the method swapaxes, which takes a pair of axis numbers and switches the indicated axes to rearrange the data\n"
   ]
  },
  {
   "cell_type": "code",
   "execution_count": 10,
   "id": "0fc7a0ea-9d3e-437c-9b2c-5d347fd37257",
   "metadata": {},
   "outputs": [
    {
     "name": "stdout",
     "output_type": "stream",
     "text": [
      "[0 1 2 3 4 5 6 7 8 9]\n",
      "[[0 1 2 3 4]\n",
      " [5 6 7 8 9]]\n"
     ]
    },
    {
     "data": {
      "text/plain": [
       "8"
      ]
     },
     "execution_count": 10,
     "metadata": {},
     "output_type": "execute_result"
    }
   ],
   "source": [
    "x=np.arange(10)\n",
    "print(x)\n",
    "x.shape=(2,5)\n",
    "print(x)\n",
    "x[1,3]"
   ]
  },
  {
   "cell_type": "code",
   "execution_count": 11,
   "id": "2e23b9f4",
   "metadata": {},
   "outputs": [
    {
     "name": "stdout",
     "output_type": "stream",
     "text": [
      "[[ 0  1  2  3  4]\n",
      " [ 5  6  7  8  9]\n",
      " [10 11 12 13 14]]\n",
      "[[ 0  1  2  3  4]\n",
      " [ 5  6  7  8  9]\n",
      " [10 11 12 13 14]]\n",
      "[[ 0  5 10]\n",
      " [ 1  6 11]\n",
      " [ 2  7 12]\n",
      " [ 3  8 13]\n",
      " [ 4  9 14]]\n",
      "[[125 140 155 170 185]\n",
      " [140 158 176 194 212]\n",
      " [155 176 197 218 239]\n",
      " [170 194 218 242 266]\n",
      " [185 212 239 266 293]]\n",
      "[[125 140 155 170 185]\n",
      " [140 158 176 194 212]\n",
      " [155 176 197 218 239]\n",
      " [170 194 218 242 266]\n",
      " [185 212 239 266 293]]\n",
      "[[ 0  5 10]\n",
      " [ 1  6 11]\n",
      " [ 2  7 12]\n",
      " [ 3  8 13]\n",
      " [ 4  9 14]]\n",
      "[[ 0  1  2  3  4]\n",
      " [ 5  6  7  8  9]\n",
      " [10 11 12 13 14]]\n"
     ]
    }
   ],
   "source": [
    "arr = np.arange(15).reshape((3, 5))\n",
    "print(arr)\n",
    "zzz = arr.T\n",
    "print(arr)\n",
    "print(zzz)\n",
    "print(np.dot(arr.T, arr))\n",
    "print(arr.T @ arr)\n",
    "print(arr.swapaxes(0, 1))\n",
    "print(arr)"
   ]
  },
  {
   "cell_type": "markdown",
   "id": "a8e73423",
   "metadata": {},
   "source": [
    "### Pseudorandom Number Generation\n",
    "\n",
    "o The numpy.random module supplements the built-in Python random module with functions for efficiently generating whole arrays\n",
    "  of sample values from many kinds of probability distributions\n",
    "  \n",
    "o Python numbers are not truely random.   Can include a seed when calling the random number generator  \n",
    "  \n",
    "o Table 4.3 NumPy random number generator methods\n"
   ]
  },
  {
   "cell_type": "code",
   "execution_count": 12,
   "id": "24f7ca36",
   "metadata": {},
   "outputs": [
    {
     "name": "stdout",
     "output_type": "stream",
     "text": [
      "[[ 0.77543836 -1.44942982 -0.11926364 -1.33335577]\n",
      " [ 0.130403    1.04714914 -0.64129813 -0.93935181]\n",
      " [ 0.78756304 -2.06875521 -0.88645954 -1.07019333]\n",
      " [-1.39182176  1.06040628  0.0639053   0.59615779]]\n"
     ]
    }
   ],
   "source": [
    "samples = np.random.standard_normal(size=(4, 4))\n",
    "print(samples)"
   ]
  },
  {
   "cell_type": "code",
   "execution_count": 13,
   "id": "c6683804",
   "metadata": {},
   "outputs": [
    {
     "name": "stdout",
     "output_type": "stream",
     "text": [
      "[[-0.67901284  0.47012062 -0.39322614]\n",
      " [-1.08021548  0.32974459  0.21821062]]\n"
     ]
    }
   ],
   "source": [
    "rng = np.random.default_rng(seed=22345)\n",
    "data = rng.standard_normal((2, 3))\n",
    "print(data)"
   ]
  },
  {
   "cell_type": "markdown",
   "id": "3908b444",
   "metadata": {},
   "source": [
    "### Universal Functions: Fast Element-Wise Array Functions\n",
    "\n",
    "o A universal function, or ufunc, is a function that performs element-wise operations on data in ndarrays. \n",
    "  \n",
    "o Works as a fast vectorized wrappers for simple functions that take one or more scalar values and produce one or more scalar results.\n",
    "  \n",
    "o Many ufuncs are simple element-wise transformations, like numpy.sqrt or numpy.exp\n",
    "\n",
    "o Table 4-4. Unary universal functions\n",
    "\n",
    "o Table 4-5. Binary universal functions"
   ]
  },
  {
   "cell_type": "code",
   "execution_count": 14,
   "id": "ad86a40d",
   "metadata": {},
   "outputs": [
    {
     "name": "stdout",
     "output_type": "stream",
     "text": [
      "[0 1 2 3 4 5 6 7 8 9]\n",
      "[1.00000000e+00 2.71828183e+00 7.38905610e+00 2.00855369e+01\n",
      " 5.45981500e+01 1.48413159e+02 4.03428793e+02 1.09663316e+03\n",
      " 2.98095799e+03 8.10308393e+03]\n",
      "[0.         1.         1.41421356 1.73205081 2.         2.23606798\n",
      " 2.44948974 2.64575131 2.82842712 3.        ]\n",
      "[0. 1. 1. 1. 2. 2. 2. 2. 2. 3.]\n",
      "[0.         0.         0.41421356 0.73205081 0.         0.23606798\n",
      " 0.44948974 0.64575131 0.82842712 0.        ]\n"
     ]
    }
   ],
   "source": [
    "arr = np.arange(10)\n",
    "print(arr)\n",
    "print(np.exp(arr))\n",
    "newarr = np.sqrt(arr)\n",
    "print(newarr)\n",
    "remainder, whole_part = np.modf(newarr)\n",
    "print(whole_part)\n",
    "print(remainder)"
   ]
  },
  {
   "cell_type": "markdown",
   "id": "448a2d32",
   "metadata": {},
   "source": [
    "### Array-Oriented Programming with Arrays\n",
    "\n",
    "o  NumPy arrays utilize vectorization to allow for many kinds of data processing tasks as concise array expressions that might otherwise require writing loops. \n",
    "  \n",
    "o The numpy.meshgrid function takes two one-dimensional arrays and produces two two-dimensional matrices corresponding to all\n",
    "  pairs of (x, y) in the two arrays.\n",
    "  "
   ]
  },
  {
   "cell_type": "code",
   "execution_count": 20,
   "id": "4300a920",
   "metadata": {},
   "outputs": [
    {
     "name": "stdout",
     "output_type": "stream",
     "text": [
      "ys : \n",
      "[[-5.   -5.   -5.   ... -5.   -5.   -5.  ]\n",
      " [-4.99 -4.99 -4.99 ... -4.99 -4.99 -4.99]\n",
      " [-4.98 -4.98 -4.98 ... -4.98 -4.98 -4.98]\n",
      " ...\n",
      " [ 4.97  4.97  4.97 ...  4.97  4.97  4.97]\n",
      " [ 4.98  4.98  4.98 ...  4.98  4.98  4.98]\n",
      " [ 4.99  4.99  4.99 ...  4.99  4.99  4.99]]\n",
      "xs: \n",
      "[[-5.   -4.99 -4.98 ...  4.97  4.98  4.99]\n",
      " [-5.   -4.99 -4.98 ...  4.97  4.98  4.99]\n",
      " [-5.   -4.99 -4.98 ...  4.97  4.98  4.99]\n",
      " ...\n",
      " [-5.   -4.99 -4.98 ...  4.97  4.98  4.99]\n",
      " [-5.   -4.99 -4.98 ...  4.97  4.98  4.99]\n",
      " [-5.   -4.99 -4.98 ...  4.97  4.98  4.99]]\n"
     ]
    },
    {
     "name": "stderr",
     "output_type": "stream",
     "text": [
      "<>:11: SyntaxWarning: invalid escape sequence '\\s'\n",
      "<>:11: SyntaxWarning: invalid escape sequence '\\s'\n",
      "C:\\Users\\kunal\\AppData\\Local\\Temp\\ipykernel_1952\\2587649825.py:11: SyntaxWarning: invalid escape sequence '\\s'\n",
      "  plt.title(\"Image plot of $\\sqrt{x^2 + y^2}$ for a grid of values\")\n"
     ]
    },
    {
     "data": {
      "text/plain": [
       "Text(0.5, 1.0, 'Image plot of $\\\\sqrt{x^2 + y^2}$ for a grid of values')"
      ]
     },
     "execution_count": 20,
     "metadata": {},
     "output_type": "execute_result"
    },
    {
     "data": {
      "image/png": "[encoded data removed]",
      "text/plain": [
       "<Figure size 640x480 with 2 Axes>"
      ]
     },
     "metadata": {},
     "output_type": "display_data"
    }
   ],
   "source": [
    "points = np.arange(-5, 5, 0.01) # 1000 equally spaced points\n",
    "#print(points)\n",
    "xs, ys = np.meshgrid(points, points)\n",
    "print(f\"ys : \\n{ys}\")\n",
    "print(f\"xs: \\n{xs}\")\n",
    "\n",
    "# Chapter 9 preview\n",
    "z = np.sqrt(xs ** 2 + ys ** 2)\n",
    "import matplotlib.pyplot as plt\n",
    "plt.imshow(z, cmap=plt.cm.gray); plt.colorbar()\n",
    "plt.title(\"Image plot of $\\sqrt{x^2 + y^2}$ for a grid of values\")\n"
   ]
  },
  {
   "cell_type": "markdown",
   "id": "c153e7cf",
   "metadata": {},
   "source": [
    "### Expressing Conditional Logic as Array Operations\n",
    "\n",
    "o The numpy.where function is a vectorized version of the ternary expression x if condition else y.\n"
   ]
  },
  {
   "cell_type": "code",
   "execution_count": 21,
   "id": "652afba8",
   "metadata": {},
   "outputs": [
    {
     "name": "stdout",
     "output_type": "stream",
     "text": [
      "[ 1  7  3  4 10]\n"
     ]
    }
   ],
   "source": [
    "xarr = np.array([1, 2, 3, 4, 5])\n",
    "yarr = np.array([6, 7, 8, 9, 10])\n",
    "cond = np.array([True, False, True, True, False])\n",
    "result = np.where(cond, xarr, yarr)\n",
    "print(result)"
   ]
  },
  {
   "cell_type": "markdown",
   "id": "25e37961",
   "metadata": {},
   "source": [
    "### Mathematical and Statistical Methods\n",
    "\n",
    "o Numpy provides a set of mathematical functions that compute statistics about an entire array or about the data along an \n",
    "  axis including aggregations (often called reductions) like sum, mean, and std (standard deviation)\n",
    "\n",
    "o Table 4-5.  Basic array statistical methods"
   ]
  },
  {
   "cell_type": "code",
   "execution_count": 22,
   "id": "45a2b619",
   "metadata": {},
   "outputs": [
    {
     "name": "stdout",
     "output_type": "stream",
     "text": [
      "[[ 0  1  2  3  4]\n",
      " [ 5  6  7  8  9]\n",
      " [10 11 12 13 14]]\n",
      "7.0\n",
      "7.0\n",
      "105\n",
      "[5. 6. 7. 8. 9.]\n",
      "[ 2.  7. 12.]\n"
     ]
    }
   ],
   "source": [
    "arr = np.arange(15).reshape((3, 5))\n",
    "print(arr)\n",
    "print(arr.mean())\n",
    "print(np.mean(arr))\n",
    "print(arr.sum())\n",
    "print(arr.mean(axis=0))\n",
    "print(arr.mean(axis=1))"
   ]
  },
  {
   "cell_type": "markdown",
   "id": "863634e7",
   "metadata": {},
   "source": [
    "### Methods for Boolean Arrays\n",
    "\n",
    "o When given a Boolean array, the any method tests whether one or more values in an array is True\n",
    "\n",
    "o When given a Boolean array, the all method tests whether all  values in an array is True"
   ]
  },
  {
   "cell_type": "code",
   "execution_count": 23,
   "id": "34f1f239",
   "metadata": {},
   "outputs": [
    {
     "name": "stdout",
     "output_type": "stream",
     "text": [
      "True\n",
      "False\n"
     ]
    }
   ],
   "source": [
    "bools = np.array([False, False, True, False])\n",
    "print(bools.any())\n",
    "print(bools.all())"
   ]
  },
  {
   "cell_type": "markdown",
   "id": "36251692",
   "metadata": {},
   "source": [
    "### Sorting\n",
    "\n",
    "o NumPy arrays can be sorted in-place with the sort method\n",
    "\n",
    "o Like the Python list sort method, the NumPy sort method modfies the array\n",
    "\n",
    "o NumPy ndarrays can sort rows or columns\n"
   ]
  },
  {
   "cell_type": "code",
   "execution_count": 24,
   "id": "0ef239df",
   "metadata": {},
   "outputs": [
    {
     "name": "stdout",
     "output_type": "stream",
     "text": [
      "[-0.90949153  0.91133277  0.13694498 -0.65246826 -1.02476221  0.29149789]\n",
      "[-1.02476221 -0.90949153 -0.65246826  0.13694498  0.29149789  0.91133277]\n",
      "[[-0.92817158  0.59555665  0.26685656]\n",
      " [ 2.44501234  0.0783228   0.96219099]\n",
      " [-0.25548838 -0.5914417   0.74556999]\n",
      " [ 0.57864374  1.70719998 -1.48168035]\n",
      " [ 1.55504009 -0.78257864 -0.20869691]]\n",
      "[[-0.92817158 -0.78257864 -1.48168035]\n",
      " [-0.25548838 -0.5914417  -0.20869691]\n",
      " [ 0.57864374  0.0783228   0.26685656]\n",
      " [ 1.55504009  0.59555665  0.74556999]\n",
      " [ 2.44501234  1.70719998  0.96219099]]\n"
     ]
    }
   ],
   "source": [
    "arr = np.random.randn(6)\n",
    "print(arr)\n",
    "arr.sort()\n",
    "print(arr)\n",
    "arr = np.random.randn(5, 3)\n",
    "print(arr)\n",
    "arr.sort(0)\n",
    "print(arr)"
   ]
  },
  {
   "cell_type": "markdown",
   "id": "9d9df37a",
   "metadata": {},
   "source": [
    "###   Unique and Other Set Logic\n",
    "\n",
    "o NumPy has some basic set operations for one-dimensional ndarrays.\n",
    "\n",
    "o Table 4-6. Array set operations\n"
   ]
  },
  {
   "cell_type": "code",
   "execution_count": 25,
   "id": "9c40f264",
   "metadata": {},
   "outputs": [
    {
     "name": "stdout",
     "output_type": "stream",
     "text": [
      "['Bob' 'Joe' 'Will']\n",
      "[1 2 3 4]\n",
      "['1' '2' '3' '4' 'Bob' 'Joe' 'Will']\n"
     ]
    }
   ],
   "source": [
    "names = np.array(['Bob', 'Joe', 'Will', 'Bob', 'Will', 'Joe', 'Joe'])\n",
    "print(np.unique(names))\n",
    "ints = np.array([3, 3, 3, 2, 2, 1, 1, 4, 4])\n",
    "print(np.unique(ints))\n",
    "uni = np.union1d(names,ints)\n",
    "print(uni)"
   ]
  },
  {
   "cell_type": "markdown",
   "id": "64f2f73d",
   "metadata": {},
   "source": [
    "### File Input and Output with Arrays\n",
    "\n",
    "o  Similar to file processing in Python\n",
    "\n",
    "o  Can read and write to both text and binary files\n",
    "\n",
    "o  More common to use pandas for file input/output"
   ]
  }
 ],
 "metadata": {
  "kernelspec": {
   "display_name": "Python 3 (ipykernel)",
   "language": "python",
   "name": "python3"
  },
  "language_info": {
   "codemirror_mode": {
    "name": "ipython",
    "version": 3
   },
   "file_extension": ".py",
   "mimetype": "text/x-python",
   "name": "python",
   "nbconvert_exporter": "python",
   "pygments_lexer": "ipython3",
   "version": "3.12.3"
  }
 },
 "nbformat": 4,
 "nbformat_minor": 5
}
