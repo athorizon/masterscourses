{
 "cells": [
  {
   "cell_type": "markdown",
   "id": "aadfa8c2",
   "metadata": {},
   "source": [
    "###### In-Class Assignment 1 - Python and Jupyter Notebook (10 points)\n",
    "## Due: 9/4/24 (12:45pm)\n",
    "\n",
    "Find your two partners as instructed. Complete the following problem and submit as a group where only one student need turn in the assignment but all students in a group should at least submit a comment indicating who was in their group and also highlighting who is responsible for turning in the assignment. All members of a group should be able to explain any code that has been turned in by the group.\n",
    "\n",
    "This assignment is not just about getting the code working. You are also expected to **add a Markdown cell after your code that explains your code** and **any results obtained**. This is particularly important if the code does not work or is incomplete, provide detailed explaination in the Markdown cell as well."
   ]
  },
  {
   "cell_type": "markdown",
   "id": "041b2876",
   "metadata": {},
   "source": [
    "### In the code cell below, write a function that, accepts exactly two parameters where the first parameter is a list containing only numbers and the second paremeter is an integer.   After validating the input to the function, the funtion should calculate and return the sum of the numbers in the list starting with the first number and ending with the \"nth\" number where the \"nth\" number is specified by second parameter value passed to the function.   The function should print a relevant error message should an error occur and then return \"gracefully\".\n",
    "\n",
    "### Do not use exception handling (try/except) statements.\n",
    "\n",
    "### Make sure to provide (and document in Markdown cells) multiple test cases (especially error cases).  Failure to provide Markdown cells with test calls will result in a 50% deduction in your assignment grade.\n",
    "\n",
    "### Test casses\n",
    "#### print(your_function_name([1,2,3,4,5,6,7,8,9,10], 5)\n",
    "#### print(your_function_name([1,2,3,4,5,6,7,8,9,10], 15)\n",
    "#### print(your_function_name([1.5,2,3.5,4,5.5,6,7.5,8,9.5,10], 8)\n",
    "#### print(your_function_name(5, [1,2,3,4,5,6,7,8,9,10])\n",
    "#### print(your_function_name(['1','2','3'],2)\n",
    "#### print(your_function_name([1,2,3],'2')"
   ]
  },
  {
   "cell_type": "code",
   "execution_count": 9,
   "id": "66802ae4",
   "metadata": {},
   "outputs": [],
   "source": [
    "def sumSeries(numList,n):\n",
    "    if(n is None):\n",
    "        print(f\"Please enter a valid value for n, currently it is {n}\")\n",
    "        return \"gracefully\"\n",
    "    if(numList is None):\n",
    "        print(f\"Please enter a valid value for list, Currently it is {numList}\")\n",
    "        return \"gracefully\"\n",
    "    elif(type(numList) is not list):\n",
    "        print(f\"Please enter a valid value for list, Currently it is {numList} of type : {type(numList)}\")\n",
    "        return \"gracefully\"\n",
    "    elif(len(numList)<=0):\n",
    "        print(f\"Please enter a valid value for list, Currently it is {numList}\")\n",
    "        return \"gracefully\"\n",
    "    elif(type(n) is not int):\n",
    "        print(f\"Please enter a valid value for n, currently it is {n} of type {type(n)}\")\n",
    "        return \"gracefully\"    \n",
    "    elif(n<0):\n",
    "        print(f\"Please enter a valid value for n, currently it is {n} of type {type(n)}\")\n",
    "        return \"gracefully\"\n",
    "    elif(n>len(numList)):\n",
    "        print(f\"Please enter a valid value for n, currently it is less then the length of list\")\n",
    "        return \"gracefully\"\n",
    "    sum=0\n",
    "    for st in numList[0:n]:\n",
    "        if(type(st) is not str):\n",
    "            print(f\"this is not a valid value {st}\")\n",
    "            return \"gracefully\"\n",
    "        sum+=st\n",
    "    return sum\n",
    "# sumSeries([1,2,3,4,5,6,7,8,9,10],5)"
   ]
  },
  {
   "cell_type": "code",
   "execution_count": 11,
   "id": "467a862a-fc59-47f0-80ef-3d22a6c8091c",
   "metadata": {},
   "outputs": [
    {
     "name": "stdout",
     "output_type": "stream",
     "text": [
      "this is not a valid value 1\n",
      "Please enter a valid value for n, currently it is less then the length of list\n",
      "this is not a valid value 1.5\n",
      "Please enter a valid value for list, Currently it is 5 of type : <class 'int'>\n",
      "Please enter a valid value for n, currently it is 2 of type <class 'str'>\n"
     ]
    },
    {
     "data": {
      "text/plain": [
       "'gracefully'"
      ]
     },
     "execution_count": 11,
     "metadata": {},
     "output_type": "execute_result"
    }
   ],
   "source": [
    "sumSeries([1,2,3,4,5,6,7,8,9,10], 5)\n",
    "sumSeries([1,2,3,4,5,6,7,8,9,10], 15)\n",
    "sumSeries([1.5,2,3.5,4,5.5,6,7.5,8,9.5,10], 8)\n",
    "sumSeries(5, [1,2,3,4,5,6,7,8,9,10])\n",
    "# sumSeries(['1','2','3'],2)\n",
    "sumSeries([1,2,3],'2')"
   ]
  },
  {
   "cell_type": "markdown",
   "id": "83a3bbb2",
   "metadata": {},
   "source": [
    "## Extra credit (5 pts.) - Due (9/6 noon)\n",
    "### Modify the function you created in this assignment so that the first parameter can contain both numbers and strings.  The function should still perform the same operation as before but when encountering a string in the list, it must first convert the string to a number (if possible)."
   ]
  },
  {
   "cell_type": "code",
   "execution_count": null,
   "id": "2f74dc6e",
   "metadata": {},
   "outputs": [],
   "source": []
  }
 ],
 "metadata": {
  "kaggle": {
   "accelerator": "none",
   "dataSources": [],
   "dockerImageVersionId": 30761,
   "isGpuEnabled": false,
   "isInternetEnabled": false,
   "language": "python",
   "sourceType": "notebook"
  },
  "kernelspec": {
   "display_name": "se-jupyter-kernel (Python 3.10.X | miniconda | ipykernel)",
   "language": "python",
   "name": "se-jupyter-kernel-310"
  },
  "language_info": {
   "codemirror_mode": {
    "name": "ipython",
    "version": 3
   },
   "file_extension": ".py",
   "mimetype": "text/x-python",
   "name": "python",
   "nbconvert_exporter": "python",
   "pygments_lexer": "ipython3",
   "version": "3.10.14"
  }
 },
 "nbformat": 4,
 "nbformat_minor": 5
}
