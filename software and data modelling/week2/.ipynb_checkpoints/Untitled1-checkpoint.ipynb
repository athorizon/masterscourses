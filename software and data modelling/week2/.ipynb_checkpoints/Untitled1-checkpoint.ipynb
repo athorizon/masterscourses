{
 "cells": [
  {
   "cell_type": "code",
   "execution_count": 7,
   "id": "2d682e1b-4799-4dd3-b57a-b5cde4fe1aa0",
   "metadata": {},
   "outputs": [
    {
     "name": "stdout",
     "output_type": "stream",
     "text": [
      "[[1 2 3]\n",
      " [4 5 6]\n",
      " [7 8 9]]\n",
      "\n",
      "[[2]\n",
      " [5]\n",
      " [8]]\n",
      "\n"
     ]
    }
   ],
   "source": [
    "import numpy as np\n",
    "\n",
    "arr1d = np.array([ 0,  1,  2,  3,  4, 64, 64, 64,  8,  9])\n",
    "arr2d = np.array([[1, 2, 3], [4, 5, 6], [7, 8, 9]])\n",
    "# print(arr1d[8])\n",
    "# print(arr1d[1:6])\n",
    "# print(arr1d[:4])\n",
    "# print(arr1d[1:-1])\n",
    "print(arr2d)\n",
    "print()\n",
    "print(arr2d[..., 1:2])\n",
    "print()\n",
    "\n"
   ]
  },
  {
   "cell_type": "code",
   "execution_count": null,
   "id": "3e9112ca-43ce-4a26-b8fc-4127bb335457",
   "metadata": {},
   "outputs": [],
   "source": []
  }
 ],
 "metadata": {
  "kernelspec": {
   "display_name": "Python 3 (ipykernel)",
   "language": "python",
   "name": "python3"
  },
  "language_info": {
   "codemirror_mode": {
    "name": "ipython",
    "version": 3
   },
   "file_extension": ".py",
   "mimetype": "text/x-python",
   "name": "python",
   "nbconvert_exporter": "python",
   "pygments_lexer": "ipython3",
   "version": "3.12.3"
  }
 },
 "nbformat": 4,
 "nbformat_minor": 5
}
