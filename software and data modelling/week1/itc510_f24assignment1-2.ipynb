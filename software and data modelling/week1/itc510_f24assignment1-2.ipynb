{
 "cells": [
  {
   "cell_type": "markdown",
   "id": "f20dac5a",
   "metadata": {},
   "source": [
    "# Assignment 1 - Python and Jupyter (20 points)\n",
    "## Due: 9/6/24 (10pm)\n",
    "\n",
    "This assignment is desiged to provide a quick review/tutorial on Python as well as how to use Jupyter  Notebooks to integrate code snippets into a single document that can be used for assignments and project reports. \n",
    "\n",
    "For all problems, when asked to write a function you must include code **within the function** to check for valid input parameter values as well as code that calls the function for multipe test cases with valid **and** invalid actual parameter values.  Do **not** use exception handling (**try/except**) statements.\n",
    "\n",
    "**Make sure to add a Markdown cell after your code cell for each problem that explains your test cases and results**.\n",
    "\n",
    "This assignment can be done individually or as a group of up to **three students**. Only one student should turn in the assignment but all students in a group should at least submit a comment indicating who was in their group and specifying who is responsible for turning in the assignment. All members of a group should be able to explain any code that has been turned in by the group."
   ]
  },
  {
   "cell_type": "markdown",
   "id": "fc346cc6",
   "metadata": {},
   "source": [
    "### 1. In the Code cell below, write a function that calculates the distance between of two **integer** points in a plane using the coordinates (x1, y1) and (x2, y2) where the values of the two points are entered by the user and then passed to the function individually as four separate  values.  \n",
    "\n",
    "### Include your test case code which should contain several calls to your function some of which return successfully and some that return error messages when the function is given invalid input.\n"
   ]
  },
  {
   "cell_type": "code",
   "execution_count": null,
   "id": "978cc39b",
   "metadata": {},
   "outputs": [],
   "source": []
  },
  {
   "cell_type": "markdown",
   "id": "d2c75b3f",
   "metadata": {},
   "source": [
    "### 2.  In the code cell below, write a function that calculates the summation (the sum of the sequence) between two **positive** integers.  The two integers must be passed to the function in a single two-element Python list.  If provided valid input, the function should calculate the summation and return the result of the calculation.\n",
    "\n",
    "### Include your test case code.\n"
   ]
  },
  {
   "cell_type": "code",
   "execution_count": null,
   "id": "55975f38",
   "metadata": {},
   "outputs": [],
   "source": []
  },
  {
   "cell_type": "markdown",
   "id": "dd6cf035",
   "metadata": {},
   "source": [
    "### 3. In the code cell below, write a function that has three formal parameters.   The first parameter must be a list containing only string elements, the second parameter must be a single string and the third parameter should be optional (with a default value of 0) and a non-negative integer.   After validating its input, the function should then replace each string in the list with a new string that overwrites the original string with the string provided as the second input parameter starting at the index provided by the third input parameter.   If the index provided is beyond the index of the last character in the string, then the new string should be concatenated onto the end of the string.   Note: new strings can be longer than the original strings but cannot be shorter.   Additionally, this function MUST NOT return anything but after a successful function call, the array passed to the function should be modified.\n",
    "\n",
    "### Include your test case code which should contain several calls to your function some of which return successfully and some that return error messages when the function is given invalid input.\n",
    "\n",
    "### Example Input\n",
    "\n",
    "list = [\"mike\",\"johnson\",\"is\",\"my\",\"teacher\"]\n",
    "\n",
    "string = '###'\n",
    "\n",
    "integer = 2\n",
    "\n",
    "### Output of list after function call\n",
    "\n",
    "[\"mi###\",\"jo###on\",\"is###\",\"my###\",\"te###er\"]\n",
    "\n",
    "\n"
   ]
  },
  {
   "cell_type": "markdown",
   "id": "bbe53fd1",
   "metadata": {},
   "source": [
    "### 4. In the code cell below, write a function that takes as input a large Python list and positive integer.   The function should iterate through the list and place each element into a Python dictionary if it is not already in the dictionary and give it a value of 1.   If the item is already in the dictionary, then the function should instead increment the value for that item.  The function should not modify the original list but instead should return a newly created list that contains only the elements that appeared in the list the exact same number of times as was specified by the value of the positive integer passed to the function.   \n",
    "\n",
    "### For this problem, you must first create a text file called \"words.txt\" that contains at least 100 words.   Then prior to calling your function you must first read in the \"words.txt\" file and place each \"word\" in a list that is then passed to passed to your function. \n",
    "\n",
    "### Include your test case code which should contain several calls to your function some of which return successfully and some that return error messages when the function is given invalid input."
   ]
  },
  {
   "cell_type": "code",
   "execution_count": null,
   "id": "d2ce53f7",
   "metadata": {},
   "outputs": [],
   "source": []
  },
  {
   "cell_type": "code",
   "execution_count": null,
   "id": "c7231031",
   "metadata": {},
   "outputs": [],
   "source": []
  }
 ],
 "metadata": {
  "kaggle": {
   "accelerator": "none",
   "dataSources": [],
   "dockerImageVersionId": 30761,
   "isGpuEnabled": false,
   "isInternetEnabled": false,
   "language": "python",
   "sourceType": "notebook"
  },
  "kernelspec": {
   "display_name": "Python 3 (ipykernel)",
   "language": "python",
   "name": "python3"
  },
  "language_info": {
   "codemirror_mode": {
    "name": "ipython",
    "version": 3
   },
   "file_extension": ".py",
   "mimetype": "text/x-python",
   "name": "python",
   "nbconvert_exporter": "python",
   "pygments_lexer": "ipython3",
   "version": "3.12.3"
  }
 },
 "nbformat": 4,
 "nbformat_minor": 5
}
