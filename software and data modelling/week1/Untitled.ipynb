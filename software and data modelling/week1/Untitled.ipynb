{
 "cells": [
  {
   "cell_type": "code",
   "execution_count": 5,
   "id": "ce69154c-a96d-4f55-b677-7d7c04102457",
   "metadata": {},
   "outputs": [
    {
     "name": "stdin",
     "output_type": "stream",
     "text": [
      "enter 1\n"
     ]
    },
    {
     "name": "stdout",
     "output_type": "stream",
     "text": [
      "<class 'str'>\n",
      "False\n",
      "False\n"
     ]
    }
   ],
   "source": [
    "x=(input('enter'))\n",
    "print(type(x))\n",
    "print(type(x)==int)\n",
    "print(type(x)==float)"
   ]
  },
  {
   "cell_type": "code",
   "execution_count": 12,
   "id": "0b65983f-54d6-457b-9899-3c1789fa3c10",
   "metadata": {},
   "outputs": [
    {
     "name": "stdout",
     "output_type": "stream",
     "text": [
      "hello my name is \"s\"\n"
     ]
    }
   ],
   "source": [
    "s = \"kunal\"\n",
    "print(\"hello my name is \\\"s\\\"\")"
   ]
  },
  {
   "cell_type": "code",
   "execution_count": 14,
   "id": "723ef447-0146-48d7-8bbe-192ff9cab199",
   "metadata": {},
   "outputs": [
    {
     "name": "stdin",
     "output_type": "stream",
     "text": [
      " 1\n"
     ]
    },
    {
     "name": "stdout",
     "output_type": "stream",
     "text": [
      "False\n"
     ]
    },
    {
     "name": "stdin",
     "output_type": "stream",
     "text": [
      " 2\n"
     ]
    },
    {
     "name": "stdout",
     "output_type": "stream",
     "text": [
      "False\n"
     ]
    },
    {
     "name": "stdin",
     "output_type": "stream",
     "text": [
      " abc\n"
     ]
    },
    {
     "name": "stdout",
     "output_type": "stream",
     "text": [
      "True\n"
     ]
    },
    {
     "name": "stdin",
     "output_type": "stream",
     "text": [
      " 12abc\n"
     ]
    },
    {
     "name": "stdout",
     "output_type": "stream",
     "text": [
      "False\n"
     ]
    },
    {
     "name": "stdin",
     "output_type": "stream",
     "text": [
      " hello\n"
     ]
    },
    {
     "name": "stdout",
     "output_type": "stream",
     "text": [
      "True\n"
     ]
    },
    {
     "name": "stdin",
     "output_type": "stream",
     "text": [
      " 000\n"
     ]
    },
    {
     "name": "stdout",
     "output_type": "stream",
     "text": [
      "False\n"
     ]
    }
   ],
   "source": [
    "while(True):\n",
    "    st=input()\n",
    "    print(st.isalpha())\n",
    "    if(st==\"000\"):\n",
    "        break"
   ]
  },
  {
   "cell_type": "code",
   "execution_count": 18,
   "id": "d38dfd03-710b-499c-b18e-45b02cf6a5f4",
   "metadata": {},
   "outputs": [
    {
     "name": "stdout",
     "output_type": "stream",
     "text": [
      "he####my name is kunal\n"
     ]
    }
   ],
   "source": [
    "st=\"hello my name is kunal\"\n",
    "n=2;\n",
    "re=\"####\"\n",
    "print(st.replace(st[n:n+len(re)],re))"
   ]
  },
  {
   "cell_type": "code",
   "execution_count": 27,
   "id": "c80252fa-930a-4244-9de9-c8d5af796f24",
   "metadata": {},
   "outputs": [
    {
     "name": "stdin",
     "output_type": "stream",
     "text": [
      "Enter input file name  ->  words.txt\n"
     ]
    },
    {
     "name": "stdout",
     "output_type": "stream",
     "text": [
      "['unicorn', 'kangaroo', 'quokka', 'moon', 'fairy', 'eagle', 'kangaroo', 'quartz', 'parrot', 'helicopter', 'nebula', 'astronaut', 'house', 'grape', 'rain', 'kite', 'flamingo', 'star', 'underwater', 'river', 'island', 'octopus', 'octopus', 'lamp', 'xenon', 'fairy', 'kite', 'island', 'dragon', 'jellyfish', 'igloo', 'quokka', 'mountain', 'orange', 'fairy', 'cactus', 'whale', 'eagle', 'airplane', 'giraffe', 'octopus', 'parrot', 'penguin', 'lemon', 'forest', 'horizon', 'moon', 'unicorn', 'island', 'jackal', 'meteor', 'ocean', 'mountain', 'fish', 'waterfall', 'diamond', 'quokka', 'horizon', 'nest', 'sun', 'leopard', 'airplane', 'fish', 'rose', 'octopus', 'night', 'piano', 'quail', 'forest', 'parrot', 'honey', 'underwater', 'cactus', 'zeppelin', 'fish', 'kingfisher', 'airplane', 'grape', 'flamingo', 'meteor', 'airplane', 'pumpkin', 'quail', 'quokka', 'umbrella', 'xylophone', 'jewel', 'quartz', 'kangaroo', 'galaxy', 'kite', 'eagle', 'desert', 'eagle', 'jellyfish', 'diamond', 'zebra', 'car', 'garden', 'yak']\n"
     ]
    }
   ],
   "source": [
    "ifile = input(\"Enter input file name  -> \")\n",
    "infile = open(ifile, \"r\")\n",
    "names = infile.read()\n",
    "nameslist = names.split(\",\")\n",
    "pos=0\n",
    "for val in nameslist:\n",
    "    nameslist[pos]=val.strip()\n",
    "    pos+=1\n",
    "print(nameslist)"
   ]
  },
  {
   "cell_type": "code",
   "execution_count": 29,
   "id": "b71e14a9-9e34-4585-88f9-d2a7af2ad78c",
   "metadata": {},
   "outputs": [
    {
     "name": "stdin",
     "output_type": "stream",
     "text": [
      "Enter input file name  ->  words.txt\n"
     ]
    },
    {
     "name": "stdout",
     "output_type": "stream",
     "text": [
      "{'unicorn': 2, 'kangaroo': 3, 'quokka': 4, 'moon': 2, 'fairy': 3, 'eagle': 4, 'quartz': 2, 'parrot': 3, 'helicopter': 1, 'nebula': 1, 'astronaut': 1, 'house': 1, 'grape': 2, 'rain': 1, 'kite': 3, 'flamingo': 2, 'star': 1, 'underwater': 2, 'river': 1, 'island': 3, 'octopus': 4, 'lamp': 1, 'xenon': 1, 'dragon': 1, 'jellyfish': 2, 'igloo': 1, 'mountain': 2, 'orange': 1, 'cactus': 2, 'whale': 1, 'airplane': 4, 'giraffe': 1, 'penguin': 1, 'lemon': 1, 'forest': 2, 'horizon': 2, 'jackal': 1, 'meteor': 2, 'ocean': 1, 'fish': 3, 'waterfall': 1, 'diamond': 2, 'nest': 1, 'sun': 1, 'leopard': 1, 'rose': 1, 'night': 1, 'piano': 1, 'quail': 2, 'honey': 1, 'zeppelin': 1, 'kingfisher': 1, 'pumpkin': 1, 'umbrella': 1, 'xylophone': 1, 'jewel': 1, 'galaxy': 1, 'desert': 1, 'zebra': 1, 'car': 1, 'garden': 1, 'yak': 1}\n"
     ]
    }
   ],
   "source": [
    "ifile = input(\"Enter input file name  -> \")\n",
    "infile = open(ifile, \"r\")\n",
    "names = infile.read()\n",
    "wordlist = names.split(\",\")\n",
    "pos=0\n",
    "wordDict = {}\n",
    "for val in wordlist:\n",
    "    val=val.strip()\n",
    "    if(wordDict.get(val) is None):\n",
    "        wordDict[val] = 1\n",
    "    else:\n",
    "        wordDict[val]=wordDict[val]+1\n",
    "print(wordDict)"
   ]
  },
  {
   "cell_type": "code",
   "execution_count": 1,
   "id": "f8db9322-5728-4a56-9f5d-408adfc6eceb",
   "metadata": {},
   "outputs": [
    {
     "name": "stdout",
     "output_type": "stream",
     "text": [
      "['123']\n"
     ]
    }
   ],
   "source": [
    "a=\"123\"\n",
    "print(a.split(','))"
   ]
  },
  {
   "cell_type": "code",
   "execution_count": null,
   "id": "b86e6370-97ae-4e72-8cc2-1836bb90bdf2",
   "metadata": {},
   "outputs": [],
   "source": []
  }
 ],
 "metadata": {
  "kernelspec": {
   "display_name": "Python 3 (ipykernel)",
   "language": "python",
   "name": "python3"
  },
  "language_info": {
   "codemirror_mode": {
    "name": "ipython",
    "version": 3
   },
   "file_extension": ".py",
   "mimetype": "text/x-python",
   "name": "python",
   "nbconvert_exporter": "python",
   "pygments_lexer": "ipython3",
   "version": "3.12.3"
  }
 },
 "nbformat": 4,
 "nbformat_minor": 5
}
